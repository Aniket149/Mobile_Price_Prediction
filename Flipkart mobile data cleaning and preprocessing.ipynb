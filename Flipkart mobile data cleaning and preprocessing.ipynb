{
 "cells": [
  {
   "cell_type": "code",
   "execution_count": 1,
   "metadata": {},
   "outputs": [],
   "source": [
    "import numpy as np\n",
    "import pandas as pd\n",
    "import matplotlib.pyplot as plt\n",
    "import seaborn as sns\n",
    "import os"
   ]
  },
  {
   "cell_type": "code",
   "execution_count": 2,
   "metadata": {},
   "outputs": [],
   "source": [
    "os.chdir(\"D:/Flipkart-data-collection\")"
   ]
  },
  {
   "cell_type": "code",
   "execution_count": 3,
   "metadata": {},
   "outputs": [
    {
     "data": {
      "text/plain": [
       "['app.py',\n",
       " 'Flipkart Mobile Data Cleaned and Preprocessed.csv',\n",
       " 'Flipkart Mobile Data.csv',\n",
       " 'prediction.pkl']"
      ]
     },
     "execution_count": 3,
     "metadata": {},
     "output_type": "execute_result"
    }
   ],
   "source": [
    "os.listdir()"
   ]
  },
  {
   "cell_type": "markdown",
   "metadata": {},
   "source": [
    "# Reading CSV file\n",
    "\n",
    "Reading flipkart mobile data csv file.\n",
    "our data is so messy. we start to clean up data."
   ]
  },
  {
   "cell_type": "code",
   "execution_count": 4,
   "metadata": {},
   "outputs": [],
   "source": [
    "data = pd.read_csv(\"Flipkart Mobile Data.csv\",index_col = 0)"
   ]
  },
  {
   "cell_type": "code",
   "execution_count": 5,
   "metadata": {},
   "outputs": [
    {
     "data": {
      "text/html": [
       "<div>\n",
       "<style scoped>\n",
       "    .dataframe tbody tr th:only-of-type {\n",
       "        vertical-align: middle;\n",
       "    }\n",
       "\n",
       "    .dataframe tbody tr th {\n",
       "        vertical-align: top;\n",
       "    }\n",
       "\n",
       "    .dataframe thead th {\n",
       "        text-align: right;\n",
       "    }\n",
       "</style>\n",
       "<table border=\"1\" class=\"dataframe\">\n",
       "  <thead>\n",
       "    <tr style=\"text-align: right;\">\n",
       "      <th></th>\n",
       "      <th>Description</th>\n",
       "      <th>Ram</th>\n",
       "      <th>Storage</th>\n",
       "      <th>Display</th>\n",
       "      <th>Camera</th>\n",
       "      <th>Battery</th>\n",
       "      <th>Rating</th>\n",
       "      <th>Price</th>\n",
       "    </tr>\n",
       "  </thead>\n",
       "  <tbody>\n",
       "    <tr>\n",
       "      <th>0</th>\n",
       "      <td>realme C11 (Rich Grey, 32 GB)</td>\n",
       "      <td>2 GB RAM | 32 GB ROM | Expandable Upto 256 GB</td>\n",
       "      <td>64 GB ROM</td>\n",
       "      <td>16.51 cm (6.5 inch) HD+ Display</td>\n",
       "      <td>13MP + 2MP | 5MP Front Camera</td>\n",
       "      <td>5000 mAh Battery</td>\n",
       "      <td>4.4</td>\n",
       "      <td>₹6,999</td>\n",
       "    </tr>\n",
       "    <tr>\n",
       "      <th>1</th>\n",
       "      <td>realme C11 (Rich Green, 32 GB)</td>\n",
       "      <td>2 GB RAM | 32 GB ROM | Expandable Upto 256 GB</td>\n",
       "      <td>64 GB ROM</td>\n",
       "      <td>16.51 cm (6.5 inch) HD+ Display</td>\n",
       "      <td>13MP + 2MP | 5MP Front Camera</td>\n",
       "      <td>5000 mAh Battery</td>\n",
       "      <td>4.4</td>\n",
       "      <td>₹6,999</td>\n",
       "    </tr>\n",
       "    <tr>\n",
       "      <th>2</th>\n",
       "      <td>POCO C3 (Arctic Blue, 64 GB)</td>\n",
       "      <td>4 GB RAM | 64 GB ROM | Expandable Upto 512 GB</td>\n",
       "      <td>64 GB ROM</td>\n",
       "      <td>16.59 cm (6.53 inch) HD+ Display</td>\n",
       "      <td>13MP + 2MP + 2MP | 5MP Front Camera</td>\n",
       "      <td>5000 mAh Li-ion Polymer Battery</td>\n",
       "      <td>4.3</td>\n",
       "      <td>₹7,999</td>\n",
       "    </tr>\n",
       "    <tr>\n",
       "      <th>3</th>\n",
       "      <td>Redmi 9 Prime (Space Blue, 64 GB)</td>\n",
       "      <td>4 GB RAM | 64 GB ROM | Expandable Upto 512 GB</td>\n",
       "      <td>64 GB ROM</td>\n",
       "      <td>16.59 cm (6.53 inch) Full HD+ Display</td>\n",
       "      <td>13MP Rear Camera | 8MP Front Camera</td>\n",
       "      <td>5020 mAh Battery</td>\n",
       "      <td>4.4</td>\n",
       "      <td>₹9,499</td>\n",
       "    </tr>\n",
       "    <tr>\n",
       "      <th>4</th>\n",
       "      <td>realme 8 Pro (Infinite Blue, 128 GB)</td>\n",
       "      <td>6 GB RAM | 128 GB ROM | Expandable Upto 256 GB</td>\n",
       "      <td>64 GB ROM</td>\n",
       "      <td>16.26 cm (6.4 inch) Full HD+ Display</td>\n",
       "      <td>108MP + 8MP + 2MP + 2MP | 16MP Front Camera</td>\n",
       "      <td>4500 mAh Battery</td>\n",
       "      <td>4.5</td>\n",
       "      <td>₹17,999</td>\n",
       "    </tr>\n",
       "  </tbody>\n",
       "</table>\n",
       "</div>"
      ],
      "text/plain": [
       "                            Description  \\\n",
       "0         realme C11 (Rich Grey, 32 GB)   \n",
       "1        realme C11 (Rich Green, 32 GB)   \n",
       "2          POCO C3 (Arctic Blue, 64 GB)   \n",
       "3     Redmi 9 Prime (Space Blue, 64 GB)   \n",
       "4  realme 8 Pro (Infinite Blue, 128 GB)   \n",
       "\n",
       "                                              Ram    Storage  \\\n",
       "0   2 GB RAM | 32 GB ROM | Expandable Upto 256 GB  64 GB ROM   \n",
       "1   2 GB RAM | 32 GB ROM | Expandable Upto 256 GB  64 GB ROM   \n",
       "2   4 GB RAM | 64 GB ROM | Expandable Upto 512 GB  64 GB ROM   \n",
       "3   4 GB RAM | 64 GB ROM | Expandable Upto 512 GB  64 GB ROM   \n",
       "4  6 GB RAM | 128 GB ROM | Expandable Upto 256 GB  64 GB ROM   \n",
       "\n",
       "                                 Display  \\\n",
       "0        16.51 cm (6.5 inch) HD+ Display   \n",
       "1        16.51 cm (6.5 inch) HD+ Display   \n",
       "2       16.59 cm (6.53 inch) HD+ Display   \n",
       "3  16.59 cm (6.53 inch) Full HD+ Display   \n",
       "4   16.26 cm (6.4 inch) Full HD+ Display   \n",
       "\n",
       "                                        Camera  \\\n",
       "0                13MP + 2MP | 5MP Front Camera   \n",
       "1                13MP + 2MP | 5MP Front Camera   \n",
       "2          13MP + 2MP + 2MP | 5MP Front Camera   \n",
       "3          13MP Rear Camera | 8MP Front Camera   \n",
       "4  108MP + 8MP + 2MP + 2MP | 16MP Front Camera   \n",
       "\n",
       "                           Battery  Rating    Price  \n",
       "0                 5000 mAh Battery     4.4   ₹6,999  \n",
       "1                 5000 mAh Battery     4.4   ₹6,999  \n",
       "2  5000 mAh Li-ion Polymer Battery     4.3   ₹7,999  \n",
       "3                 5020 mAh Battery     4.4   ₹9,499  \n",
       "4                 4500 mAh Battery     4.5  ₹17,999  "
      ]
     },
     "execution_count": 5,
     "metadata": {},
     "output_type": "execute_result"
    }
   ],
   "source": [
    "data.head()"
   ]
  },
  {
   "cell_type": "markdown",
   "metadata": {},
   "source": [
    "# Cleaning Description Column\n",
    "\n",
    "Description column contain mobile brand name, mobile color and mobile storage.\n",
    "we will separate each from description column."
   ]
  },
  {
   "cell_type": "code",
   "execution_count": 6,
   "metadata": {},
   "outputs": [],
   "source": [
    "data[['Mobile Brand']] = data['Description'].str.split(\"(\").str.get(0)"
   ]
  },
  {
   "cell_type": "code",
   "execution_count": 7,
   "metadata": {},
   "outputs": [
    {
     "data": {
      "text/html": [
       "<div>\n",
       "<style scoped>\n",
       "    .dataframe tbody tr th:only-of-type {\n",
       "        vertical-align: middle;\n",
       "    }\n",
       "\n",
       "    .dataframe tbody tr th {\n",
       "        vertical-align: top;\n",
       "    }\n",
       "\n",
       "    .dataframe thead th {\n",
       "        text-align: right;\n",
       "    }\n",
       "</style>\n",
       "<table border=\"1\" class=\"dataframe\">\n",
       "  <thead>\n",
       "    <tr style=\"text-align: right;\">\n",
       "      <th></th>\n",
       "      <th>Description</th>\n",
       "      <th>Ram</th>\n",
       "      <th>Storage</th>\n",
       "      <th>Display</th>\n",
       "      <th>Camera</th>\n",
       "      <th>Battery</th>\n",
       "      <th>Rating</th>\n",
       "      <th>Price</th>\n",
       "      <th>Mobile Brand</th>\n",
       "    </tr>\n",
       "  </thead>\n",
       "  <tbody>\n",
       "    <tr>\n",
       "      <th>0</th>\n",
       "      <td>realme C11 (Rich Grey, 32 GB)</td>\n",
       "      <td>2 GB RAM | 32 GB ROM | Expandable Upto 256 GB</td>\n",
       "      <td>64 GB ROM</td>\n",
       "      <td>16.51 cm (6.5 inch) HD+ Display</td>\n",
       "      <td>13MP + 2MP | 5MP Front Camera</td>\n",
       "      <td>5000 mAh Battery</td>\n",
       "      <td>4.4</td>\n",
       "      <td>₹6,999</td>\n",
       "      <td>realme C11</td>\n",
       "    </tr>\n",
       "    <tr>\n",
       "      <th>1</th>\n",
       "      <td>realme C11 (Rich Green, 32 GB)</td>\n",
       "      <td>2 GB RAM | 32 GB ROM | Expandable Upto 256 GB</td>\n",
       "      <td>64 GB ROM</td>\n",
       "      <td>16.51 cm (6.5 inch) HD+ Display</td>\n",
       "      <td>13MP + 2MP | 5MP Front Camera</td>\n",
       "      <td>5000 mAh Battery</td>\n",
       "      <td>4.4</td>\n",
       "      <td>₹6,999</td>\n",
       "      <td>realme C11</td>\n",
       "    </tr>\n",
       "  </tbody>\n",
       "</table>\n",
       "</div>"
      ],
      "text/plain": [
       "                      Description  \\\n",
       "0   realme C11 (Rich Grey, 32 GB)   \n",
       "1  realme C11 (Rich Green, 32 GB)   \n",
       "\n",
       "                                             Ram    Storage  \\\n",
       "0  2 GB RAM | 32 GB ROM | Expandable Upto 256 GB  64 GB ROM   \n",
       "1  2 GB RAM | 32 GB ROM | Expandable Upto 256 GB  64 GB ROM   \n",
       "\n",
       "                           Display                         Camera  \\\n",
       "0  16.51 cm (6.5 inch) HD+ Display  13MP + 2MP | 5MP Front Camera   \n",
       "1  16.51 cm (6.5 inch) HD+ Display  13MP + 2MP | 5MP Front Camera   \n",
       "\n",
       "            Battery  Rating   Price Mobile Brand  \n",
       "0  5000 mAh Battery     4.4  ₹6,999  realme C11   \n",
       "1  5000 mAh Battery     4.4  ₹6,999  realme C11   "
      ]
     },
     "execution_count": 7,
     "metadata": {},
     "output_type": "execute_result"
    }
   ],
   "source": [
    "data.head(2)"
   ]
  },
  {
   "cell_type": "code",
   "execution_count": 8,
   "metadata": {},
   "outputs": [],
   "source": [
    "data[['Mobile Color']] = data['Description'].str.split(\"(\").str.get(1)"
   ]
  },
  {
   "cell_type": "code",
   "execution_count": 9,
   "metadata": {},
   "outputs": [
    {
     "data": {
      "text/html": [
       "<div>\n",
       "<style scoped>\n",
       "    .dataframe tbody tr th:only-of-type {\n",
       "        vertical-align: middle;\n",
       "    }\n",
       "\n",
       "    .dataframe tbody tr th {\n",
       "        vertical-align: top;\n",
       "    }\n",
       "\n",
       "    .dataframe thead th {\n",
       "        text-align: right;\n",
       "    }\n",
       "</style>\n",
       "<table border=\"1\" class=\"dataframe\">\n",
       "  <thead>\n",
       "    <tr style=\"text-align: right;\">\n",
       "      <th></th>\n",
       "      <th>Description</th>\n",
       "      <th>Ram</th>\n",
       "      <th>Storage</th>\n",
       "      <th>Display</th>\n",
       "      <th>Camera</th>\n",
       "      <th>Battery</th>\n",
       "      <th>Rating</th>\n",
       "      <th>Price</th>\n",
       "      <th>Mobile Brand</th>\n",
       "      <th>Mobile Color</th>\n",
       "    </tr>\n",
       "  </thead>\n",
       "  <tbody>\n",
       "    <tr>\n",
       "      <th>0</th>\n",
       "      <td>realme C11 (Rich Grey, 32 GB)</td>\n",
       "      <td>2 GB RAM | 32 GB ROM | Expandable Upto 256 GB</td>\n",
       "      <td>64 GB ROM</td>\n",
       "      <td>16.51 cm (6.5 inch) HD+ Display</td>\n",
       "      <td>13MP + 2MP | 5MP Front Camera</td>\n",
       "      <td>5000 mAh Battery</td>\n",
       "      <td>4.4</td>\n",
       "      <td>₹6,999</td>\n",
       "      <td>realme C11</td>\n",
       "      <td>Rich Grey, 32 GB)</td>\n",
       "    </tr>\n",
       "    <tr>\n",
       "      <th>1</th>\n",
       "      <td>realme C11 (Rich Green, 32 GB)</td>\n",
       "      <td>2 GB RAM | 32 GB ROM | Expandable Upto 256 GB</td>\n",
       "      <td>64 GB ROM</td>\n",
       "      <td>16.51 cm (6.5 inch) HD+ Display</td>\n",
       "      <td>13MP + 2MP | 5MP Front Camera</td>\n",
       "      <td>5000 mAh Battery</td>\n",
       "      <td>4.4</td>\n",
       "      <td>₹6,999</td>\n",
       "      <td>realme C11</td>\n",
       "      <td>Rich Green, 32 GB)</td>\n",
       "    </tr>\n",
       "  </tbody>\n",
       "</table>\n",
       "</div>"
      ],
      "text/plain": [
       "                      Description  \\\n",
       "0   realme C11 (Rich Grey, 32 GB)   \n",
       "1  realme C11 (Rich Green, 32 GB)   \n",
       "\n",
       "                                             Ram    Storage  \\\n",
       "0  2 GB RAM | 32 GB ROM | Expandable Upto 256 GB  64 GB ROM   \n",
       "1  2 GB RAM | 32 GB ROM | Expandable Upto 256 GB  64 GB ROM   \n",
       "\n",
       "                           Display                         Camera  \\\n",
       "0  16.51 cm (6.5 inch) HD+ Display  13MP + 2MP | 5MP Front Camera   \n",
       "1  16.51 cm (6.5 inch) HD+ Display  13MP + 2MP | 5MP Front Camera   \n",
       "\n",
       "            Battery  Rating   Price Mobile Brand        Mobile Color  \n",
       "0  5000 mAh Battery     4.4  ₹6,999  realme C11    Rich Grey, 32 GB)  \n",
       "1  5000 mAh Battery     4.4  ₹6,999  realme C11   Rich Green, 32 GB)  "
      ]
     },
     "execution_count": 9,
     "metadata": {},
     "output_type": "execute_result"
    }
   ],
   "source": [
    "data.head(2)"
   ]
  },
  {
   "cell_type": "code",
   "execution_count": 10,
   "metadata": {},
   "outputs": [],
   "source": [
    "data['Mobile Color']= data['Mobile Color'].str.split(\",\").str.get(0)"
   ]
  },
  {
   "cell_type": "code",
   "execution_count": 11,
   "metadata": {},
   "outputs": [
    {
     "data": {
      "text/html": [
       "<div>\n",
       "<style scoped>\n",
       "    .dataframe tbody tr th:only-of-type {\n",
       "        vertical-align: middle;\n",
       "    }\n",
       "\n",
       "    .dataframe tbody tr th {\n",
       "        vertical-align: top;\n",
       "    }\n",
       "\n",
       "    .dataframe thead th {\n",
       "        text-align: right;\n",
       "    }\n",
       "</style>\n",
       "<table border=\"1\" class=\"dataframe\">\n",
       "  <thead>\n",
       "    <tr style=\"text-align: right;\">\n",
       "      <th></th>\n",
       "      <th>Description</th>\n",
       "      <th>Ram</th>\n",
       "      <th>Storage</th>\n",
       "      <th>Display</th>\n",
       "      <th>Camera</th>\n",
       "      <th>Battery</th>\n",
       "      <th>Rating</th>\n",
       "      <th>Price</th>\n",
       "      <th>Mobile Brand</th>\n",
       "      <th>Mobile Color</th>\n",
       "    </tr>\n",
       "  </thead>\n",
       "  <tbody>\n",
       "    <tr>\n",
       "      <th>0</th>\n",
       "      <td>realme C11 (Rich Grey, 32 GB)</td>\n",
       "      <td>2 GB RAM | 32 GB ROM | Expandable Upto 256 GB</td>\n",
       "      <td>64 GB ROM</td>\n",
       "      <td>16.51 cm (6.5 inch) HD+ Display</td>\n",
       "      <td>13MP + 2MP | 5MP Front Camera</td>\n",
       "      <td>5000 mAh Battery</td>\n",
       "      <td>4.4</td>\n",
       "      <td>₹6,999</td>\n",
       "      <td>realme C11</td>\n",
       "      <td>Rich Grey</td>\n",
       "    </tr>\n",
       "    <tr>\n",
       "      <th>1</th>\n",
       "      <td>realme C11 (Rich Green, 32 GB)</td>\n",
       "      <td>2 GB RAM | 32 GB ROM | Expandable Upto 256 GB</td>\n",
       "      <td>64 GB ROM</td>\n",
       "      <td>16.51 cm (6.5 inch) HD+ Display</td>\n",
       "      <td>13MP + 2MP | 5MP Front Camera</td>\n",
       "      <td>5000 mAh Battery</td>\n",
       "      <td>4.4</td>\n",
       "      <td>₹6,999</td>\n",
       "      <td>realme C11</td>\n",
       "      <td>Rich Green</td>\n",
       "    </tr>\n",
       "  </tbody>\n",
       "</table>\n",
       "</div>"
      ],
      "text/plain": [
       "                      Description  \\\n",
       "0   realme C11 (Rich Grey, 32 GB)   \n",
       "1  realme C11 (Rich Green, 32 GB)   \n",
       "\n",
       "                                             Ram    Storage  \\\n",
       "0  2 GB RAM | 32 GB ROM | Expandable Upto 256 GB  64 GB ROM   \n",
       "1  2 GB RAM | 32 GB ROM | Expandable Upto 256 GB  64 GB ROM   \n",
       "\n",
       "                           Display                         Camera  \\\n",
       "0  16.51 cm (6.5 inch) HD+ Display  13MP + 2MP | 5MP Front Camera   \n",
       "1  16.51 cm (6.5 inch) HD+ Display  13MP + 2MP | 5MP Front Camera   \n",
       "\n",
       "            Battery  Rating   Price Mobile Brand Mobile Color  \n",
       "0  5000 mAh Battery     4.4  ₹6,999  realme C11     Rich Grey  \n",
       "1  5000 mAh Battery     4.4  ₹6,999  realme C11    Rich Green  "
      ]
     },
     "execution_count": 11,
     "metadata": {},
     "output_type": "execute_result"
    }
   ],
   "source": [
    "data.head(2)"
   ]
  },
  {
   "cell_type": "code",
   "execution_count": 12,
   "metadata": {},
   "outputs": [],
   "source": [
    "data.drop(['Description'],axis=1, inplace = True) # we have extracted mobile brand and color now we will drop description column"
   ]
  },
  {
   "cell_type": "code",
   "execution_count": 13,
   "metadata": {},
   "outputs": [],
   "source": [
    "data.drop(['Storage'],axis = 1,inplace = True) # dropping storage column"
   ]
  },
  {
   "cell_type": "code",
   "execution_count": 14,
   "metadata": {},
   "outputs": [
    {
     "data": {
      "text/html": [
       "<div>\n",
       "<style scoped>\n",
       "    .dataframe tbody tr th:only-of-type {\n",
       "        vertical-align: middle;\n",
       "    }\n",
       "\n",
       "    .dataframe tbody tr th {\n",
       "        vertical-align: top;\n",
       "    }\n",
       "\n",
       "    .dataframe thead th {\n",
       "        text-align: right;\n",
       "    }\n",
       "</style>\n",
       "<table border=\"1\" class=\"dataframe\">\n",
       "  <thead>\n",
       "    <tr style=\"text-align: right;\">\n",
       "      <th></th>\n",
       "      <th>Ram</th>\n",
       "      <th>Display</th>\n",
       "      <th>Camera</th>\n",
       "      <th>Battery</th>\n",
       "      <th>Rating</th>\n",
       "      <th>Price</th>\n",
       "      <th>Mobile Brand</th>\n",
       "      <th>Mobile Color</th>\n",
       "    </tr>\n",
       "  </thead>\n",
       "  <tbody>\n",
       "    <tr>\n",
       "      <th>0</th>\n",
       "      <td>2 GB RAM | 32 GB ROM | Expandable Upto 256 GB</td>\n",
       "      <td>16.51 cm (6.5 inch) HD+ Display</td>\n",
       "      <td>13MP + 2MP | 5MP Front Camera</td>\n",
       "      <td>5000 mAh Battery</td>\n",
       "      <td>4.4</td>\n",
       "      <td>₹6,999</td>\n",
       "      <td>realme C11</td>\n",
       "      <td>Rich Grey</td>\n",
       "    </tr>\n",
       "    <tr>\n",
       "      <th>1</th>\n",
       "      <td>2 GB RAM | 32 GB ROM | Expandable Upto 256 GB</td>\n",
       "      <td>16.51 cm (6.5 inch) HD+ Display</td>\n",
       "      <td>13MP + 2MP | 5MP Front Camera</td>\n",
       "      <td>5000 mAh Battery</td>\n",
       "      <td>4.4</td>\n",
       "      <td>₹6,999</td>\n",
       "      <td>realme C11</td>\n",
       "      <td>Rich Green</td>\n",
       "    </tr>\n",
       "  </tbody>\n",
       "</table>\n",
       "</div>"
      ],
      "text/plain": [
       "                                             Ram  \\\n",
       "0  2 GB RAM | 32 GB ROM | Expandable Upto 256 GB   \n",
       "1  2 GB RAM | 32 GB ROM | Expandable Upto 256 GB   \n",
       "\n",
       "                           Display                         Camera  \\\n",
       "0  16.51 cm (6.5 inch) HD+ Display  13MP + 2MP | 5MP Front Camera   \n",
       "1  16.51 cm (6.5 inch) HD+ Display  13MP + 2MP | 5MP Front Camera   \n",
       "\n",
       "            Battery  Rating   Price Mobile Brand Mobile Color  \n",
       "0  5000 mAh Battery     4.4  ₹6,999  realme C11     Rich Grey  \n",
       "1  5000 mAh Battery     4.4  ₹6,999  realme C11    Rich Green  "
      ]
     },
     "execution_count": 14,
     "metadata": {},
     "output_type": "execute_result"
    }
   ],
   "source": [
    "data.head(2)"
   ]
  },
  {
   "cell_type": "markdown",
   "metadata": {},
   "source": [
    "# Cleaning RAM Column\n",
    "\n",
    "Like Desription column, we separated mobile brand and mobile color and made separate column respectively. \n",
    "Like wise we will do for RAM column.\n",
    "RAM column consist of RAM, storage and expandable memory. we will separate each and make new column."
   ]
  },
  {
   "cell_type": "code",
   "execution_count": 15,
   "metadata": {},
   "outputs": [],
   "source": [
    "data[['RAM']] = data['Ram'].str.split(\"|\").str.get(0)"
   ]
  },
  {
   "cell_type": "code",
   "execution_count": 16,
   "metadata": {},
   "outputs": [
    {
     "data": {
      "text/html": [
       "<div>\n",
       "<style scoped>\n",
       "    .dataframe tbody tr th:only-of-type {\n",
       "        vertical-align: middle;\n",
       "    }\n",
       "\n",
       "    .dataframe tbody tr th {\n",
       "        vertical-align: top;\n",
       "    }\n",
       "\n",
       "    .dataframe thead th {\n",
       "        text-align: right;\n",
       "    }\n",
       "</style>\n",
       "<table border=\"1\" class=\"dataframe\">\n",
       "  <thead>\n",
       "    <tr style=\"text-align: right;\">\n",
       "      <th></th>\n",
       "      <th>Ram</th>\n",
       "      <th>Display</th>\n",
       "      <th>Camera</th>\n",
       "      <th>Battery</th>\n",
       "      <th>Rating</th>\n",
       "      <th>Price</th>\n",
       "      <th>Mobile Brand</th>\n",
       "      <th>Mobile Color</th>\n",
       "      <th>RAM</th>\n",
       "    </tr>\n",
       "  </thead>\n",
       "  <tbody>\n",
       "    <tr>\n",
       "      <th>0</th>\n",
       "      <td>2 GB RAM | 32 GB ROM | Expandable Upto 256 GB</td>\n",
       "      <td>16.51 cm (6.5 inch) HD+ Display</td>\n",
       "      <td>13MP + 2MP | 5MP Front Camera</td>\n",
       "      <td>5000 mAh Battery</td>\n",
       "      <td>4.4</td>\n",
       "      <td>₹6,999</td>\n",
       "      <td>realme C11</td>\n",
       "      <td>Rich Grey</td>\n",
       "      <td>2 GB RAM</td>\n",
       "    </tr>\n",
       "    <tr>\n",
       "      <th>1</th>\n",
       "      <td>2 GB RAM | 32 GB ROM | Expandable Upto 256 GB</td>\n",
       "      <td>16.51 cm (6.5 inch) HD+ Display</td>\n",
       "      <td>13MP + 2MP | 5MP Front Camera</td>\n",
       "      <td>5000 mAh Battery</td>\n",
       "      <td>4.4</td>\n",
       "      <td>₹6,999</td>\n",
       "      <td>realme C11</td>\n",
       "      <td>Rich Green</td>\n",
       "      <td>2 GB RAM</td>\n",
       "    </tr>\n",
       "  </tbody>\n",
       "</table>\n",
       "</div>"
      ],
      "text/plain": [
       "                                             Ram  \\\n",
       "0  2 GB RAM | 32 GB ROM | Expandable Upto 256 GB   \n",
       "1  2 GB RAM | 32 GB ROM | Expandable Upto 256 GB   \n",
       "\n",
       "                           Display                         Camera  \\\n",
       "0  16.51 cm (6.5 inch) HD+ Display  13MP + 2MP | 5MP Front Camera   \n",
       "1  16.51 cm (6.5 inch) HD+ Display  13MP + 2MP | 5MP Front Camera   \n",
       "\n",
       "            Battery  Rating   Price Mobile Brand Mobile Color        RAM  \n",
       "0  5000 mAh Battery     4.4  ₹6,999  realme C11     Rich Grey  2 GB RAM   \n",
       "1  5000 mAh Battery     4.4  ₹6,999  realme C11    Rich Green  2 GB RAM   "
      ]
     },
     "execution_count": 16,
     "metadata": {},
     "output_type": "execute_result"
    }
   ],
   "source": [
    "data.head(2)"
   ]
  },
  {
   "cell_type": "code",
   "execution_count": 17,
   "metadata": {},
   "outputs": [],
   "source": [
    "data[['Storage']]=data['Ram'].str.split(\"|\").str.get(1)"
   ]
  },
  {
   "cell_type": "code",
   "execution_count": 18,
   "metadata": {},
   "outputs": [
    {
     "data": {
      "text/html": [
       "<div>\n",
       "<style scoped>\n",
       "    .dataframe tbody tr th:only-of-type {\n",
       "        vertical-align: middle;\n",
       "    }\n",
       "\n",
       "    .dataframe tbody tr th {\n",
       "        vertical-align: top;\n",
       "    }\n",
       "\n",
       "    .dataframe thead th {\n",
       "        text-align: right;\n",
       "    }\n",
       "</style>\n",
       "<table border=\"1\" class=\"dataframe\">\n",
       "  <thead>\n",
       "    <tr style=\"text-align: right;\">\n",
       "      <th></th>\n",
       "      <th>Ram</th>\n",
       "      <th>Display</th>\n",
       "      <th>Camera</th>\n",
       "      <th>Battery</th>\n",
       "      <th>Rating</th>\n",
       "      <th>Price</th>\n",
       "      <th>Mobile Brand</th>\n",
       "      <th>Mobile Color</th>\n",
       "      <th>RAM</th>\n",
       "      <th>Storage</th>\n",
       "    </tr>\n",
       "  </thead>\n",
       "  <tbody>\n",
       "    <tr>\n",
       "      <th>0</th>\n",
       "      <td>2 GB RAM | 32 GB ROM | Expandable Upto 256 GB</td>\n",
       "      <td>16.51 cm (6.5 inch) HD+ Display</td>\n",
       "      <td>13MP + 2MP | 5MP Front Camera</td>\n",
       "      <td>5000 mAh Battery</td>\n",
       "      <td>4.4</td>\n",
       "      <td>₹6,999</td>\n",
       "      <td>realme C11</td>\n",
       "      <td>Rich Grey</td>\n",
       "      <td>2 GB RAM</td>\n",
       "      <td>32 GB ROM</td>\n",
       "    </tr>\n",
       "    <tr>\n",
       "      <th>1</th>\n",
       "      <td>2 GB RAM | 32 GB ROM | Expandable Upto 256 GB</td>\n",
       "      <td>16.51 cm (6.5 inch) HD+ Display</td>\n",
       "      <td>13MP + 2MP | 5MP Front Camera</td>\n",
       "      <td>5000 mAh Battery</td>\n",
       "      <td>4.4</td>\n",
       "      <td>₹6,999</td>\n",
       "      <td>realme C11</td>\n",
       "      <td>Rich Green</td>\n",
       "      <td>2 GB RAM</td>\n",
       "      <td>32 GB ROM</td>\n",
       "    </tr>\n",
       "  </tbody>\n",
       "</table>\n",
       "</div>"
      ],
      "text/plain": [
       "                                             Ram  \\\n",
       "0  2 GB RAM | 32 GB ROM | Expandable Upto 256 GB   \n",
       "1  2 GB RAM | 32 GB ROM | Expandable Upto 256 GB   \n",
       "\n",
       "                           Display                         Camera  \\\n",
       "0  16.51 cm (6.5 inch) HD+ Display  13MP + 2MP | 5MP Front Camera   \n",
       "1  16.51 cm (6.5 inch) HD+ Display  13MP + 2MP | 5MP Front Camera   \n",
       "\n",
       "            Battery  Rating   Price Mobile Brand Mobile Color        RAM  \\\n",
       "0  5000 mAh Battery     4.4  ₹6,999  realme C11     Rich Grey  2 GB RAM    \n",
       "1  5000 mAh Battery     4.4  ₹6,999  realme C11    Rich Green  2 GB RAM    \n",
       "\n",
       "       Storage  \n",
       "0   32 GB ROM   \n",
       "1   32 GB ROM   "
      ]
     },
     "execution_count": 18,
     "metadata": {},
     "output_type": "execute_result"
    }
   ],
   "source": [
    "data.head(2)"
   ]
  },
  {
   "cell_type": "code",
   "execution_count": 19,
   "metadata": {},
   "outputs": [],
   "source": [
    "data[['Expandable Memory']]=data['Ram'].str.split(\"|\").str.get(2)"
   ]
  },
  {
   "cell_type": "code",
   "execution_count": 20,
   "metadata": {},
   "outputs": [
    {
     "data": {
      "text/html": [
       "<div>\n",
       "<style scoped>\n",
       "    .dataframe tbody tr th:only-of-type {\n",
       "        vertical-align: middle;\n",
       "    }\n",
       "\n",
       "    .dataframe tbody tr th {\n",
       "        vertical-align: top;\n",
       "    }\n",
       "\n",
       "    .dataframe thead th {\n",
       "        text-align: right;\n",
       "    }\n",
       "</style>\n",
       "<table border=\"1\" class=\"dataframe\">\n",
       "  <thead>\n",
       "    <tr style=\"text-align: right;\">\n",
       "      <th></th>\n",
       "      <th>Ram</th>\n",
       "      <th>Display</th>\n",
       "      <th>Camera</th>\n",
       "      <th>Battery</th>\n",
       "      <th>Rating</th>\n",
       "      <th>Price</th>\n",
       "      <th>Mobile Brand</th>\n",
       "      <th>Mobile Color</th>\n",
       "      <th>RAM</th>\n",
       "      <th>Storage</th>\n",
       "      <th>Expandable Memory</th>\n",
       "    </tr>\n",
       "  </thead>\n",
       "  <tbody>\n",
       "    <tr>\n",
       "      <th>0</th>\n",
       "      <td>2 GB RAM | 32 GB ROM | Expandable Upto 256 GB</td>\n",
       "      <td>16.51 cm (6.5 inch) HD+ Display</td>\n",
       "      <td>13MP + 2MP | 5MP Front Camera</td>\n",
       "      <td>5000 mAh Battery</td>\n",
       "      <td>4.4</td>\n",
       "      <td>₹6,999</td>\n",
       "      <td>realme C11</td>\n",
       "      <td>Rich Grey</td>\n",
       "      <td>2 GB RAM</td>\n",
       "      <td>32 GB ROM</td>\n",
       "      <td>Expandable Upto 256 GB</td>\n",
       "    </tr>\n",
       "    <tr>\n",
       "      <th>1</th>\n",
       "      <td>2 GB RAM | 32 GB ROM | Expandable Upto 256 GB</td>\n",
       "      <td>16.51 cm (6.5 inch) HD+ Display</td>\n",
       "      <td>13MP + 2MP | 5MP Front Camera</td>\n",
       "      <td>5000 mAh Battery</td>\n",
       "      <td>4.4</td>\n",
       "      <td>₹6,999</td>\n",
       "      <td>realme C11</td>\n",
       "      <td>Rich Green</td>\n",
       "      <td>2 GB RAM</td>\n",
       "      <td>32 GB ROM</td>\n",
       "      <td>Expandable Upto 256 GB</td>\n",
       "    </tr>\n",
       "  </tbody>\n",
       "</table>\n",
       "</div>"
      ],
      "text/plain": [
       "                                             Ram  \\\n",
       "0  2 GB RAM | 32 GB ROM | Expandable Upto 256 GB   \n",
       "1  2 GB RAM | 32 GB ROM | Expandable Upto 256 GB   \n",
       "\n",
       "                           Display                         Camera  \\\n",
       "0  16.51 cm (6.5 inch) HD+ Display  13MP + 2MP | 5MP Front Camera   \n",
       "1  16.51 cm (6.5 inch) HD+ Display  13MP + 2MP | 5MP Front Camera   \n",
       "\n",
       "            Battery  Rating   Price Mobile Brand Mobile Color        RAM  \\\n",
       "0  5000 mAh Battery     4.4  ₹6,999  realme C11     Rich Grey  2 GB RAM    \n",
       "1  5000 mAh Battery     4.4  ₹6,999  realme C11    Rich Green  2 GB RAM    \n",
       "\n",
       "       Storage        Expandable Memory  \n",
       "0   32 GB ROM    Expandable Upto 256 GB  \n",
       "1   32 GB ROM    Expandable Upto 256 GB  "
      ]
     },
     "execution_count": 20,
     "metadata": {},
     "output_type": "execute_result"
    }
   ],
   "source": [
    "data.head(2)"
   ]
  },
  {
   "cell_type": "code",
   "execution_count": 21,
   "metadata": {},
   "outputs": [],
   "source": [
    "data.drop(['Ram'],axis=1,inplace= True)"
   ]
  },
  {
   "cell_type": "code",
   "execution_count": 22,
   "metadata": {},
   "outputs": [
    {
     "data": {
      "text/html": [
       "<div>\n",
       "<style scoped>\n",
       "    .dataframe tbody tr th:only-of-type {\n",
       "        vertical-align: middle;\n",
       "    }\n",
       "\n",
       "    .dataframe tbody tr th {\n",
       "        vertical-align: top;\n",
       "    }\n",
       "\n",
       "    .dataframe thead th {\n",
       "        text-align: right;\n",
       "    }\n",
       "</style>\n",
       "<table border=\"1\" class=\"dataframe\">\n",
       "  <thead>\n",
       "    <tr style=\"text-align: right;\">\n",
       "      <th></th>\n",
       "      <th>Display</th>\n",
       "      <th>Camera</th>\n",
       "      <th>Battery</th>\n",
       "      <th>Rating</th>\n",
       "      <th>Price</th>\n",
       "      <th>Mobile Brand</th>\n",
       "      <th>Mobile Color</th>\n",
       "      <th>RAM</th>\n",
       "      <th>Storage</th>\n",
       "      <th>Expandable Memory</th>\n",
       "    </tr>\n",
       "  </thead>\n",
       "  <tbody>\n",
       "    <tr>\n",
       "      <th>0</th>\n",
       "      <td>16.51 cm (6.5 inch) HD+ Display</td>\n",
       "      <td>13MP + 2MP | 5MP Front Camera</td>\n",
       "      <td>5000 mAh Battery</td>\n",
       "      <td>4.4</td>\n",
       "      <td>₹6,999</td>\n",
       "      <td>realme C11</td>\n",
       "      <td>Rich Grey</td>\n",
       "      <td>2 GB RAM</td>\n",
       "      <td>32 GB ROM</td>\n",
       "      <td>Expandable Upto 256 GB</td>\n",
       "    </tr>\n",
       "    <tr>\n",
       "      <th>1</th>\n",
       "      <td>16.51 cm (6.5 inch) HD+ Display</td>\n",
       "      <td>13MP + 2MP | 5MP Front Camera</td>\n",
       "      <td>5000 mAh Battery</td>\n",
       "      <td>4.4</td>\n",
       "      <td>₹6,999</td>\n",
       "      <td>realme C11</td>\n",
       "      <td>Rich Green</td>\n",
       "      <td>2 GB RAM</td>\n",
       "      <td>32 GB ROM</td>\n",
       "      <td>Expandable Upto 256 GB</td>\n",
       "    </tr>\n",
       "  </tbody>\n",
       "</table>\n",
       "</div>"
      ],
      "text/plain": [
       "                           Display                         Camera  \\\n",
       "0  16.51 cm (6.5 inch) HD+ Display  13MP + 2MP | 5MP Front Camera   \n",
       "1  16.51 cm (6.5 inch) HD+ Display  13MP + 2MP | 5MP Front Camera   \n",
       "\n",
       "            Battery  Rating   Price Mobile Brand Mobile Color        RAM  \\\n",
       "0  5000 mAh Battery     4.4  ₹6,999  realme C11     Rich Grey  2 GB RAM    \n",
       "1  5000 mAh Battery     4.4  ₹6,999  realme C11    Rich Green  2 GB RAM    \n",
       "\n",
       "       Storage        Expandable Memory  \n",
       "0   32 GB ROM    Expandable Upto 256 GB  \n",
       "1   32 GB ROM    Expandable Upto 256 GB  "
      ]
     },
     "execution_count": 22,
     "metadata": {},
     "output_type": "execute_result"
    }
   ],
   "source": [
    "data.head(2)"
   ]
  },
  {
   "cell_type": "markdown",
   "metadata": {},
   "source": [
    "# Cleaning Display Column\n",
    "\n",
    "we will separate mobile length in cm and inch and make new column"
   ]
  },
  {
   "cell_type": "code",
   "execution_count": 23,
   "metadata": {},
   "outputs": [],
   "source": [
    "data[['Mobile_Display']] = data['Display'].str.split('(').str.get(0)"
   ]
  },
  {
   "cell_type": "code",
   "execution_count": 24,
   "metadata": {},
   "outputs": [
    {
     "data": {
      "text/html": [
       "<div>\n",
       "<style scoped>\n",
       "    .dataframe tbody tr th:only-of-type {\n",
       "        vertical-align: middle;\n",
       "    }\n",
       "\n",
       "    .dataframe tbody tr th {\n",
       "        vertical-align: top;\n",
       "    }\n",
       "\n",
       "    .dataframe thead th {\n",
       "        text-align: right;\n",
       "    }\n",
       "</style>\n",
       "<table border=\"1\" class=\"dataframe\">\n",
       "  <thead>\n",
       "    <tr style=\"text-align: right;\">\n",
       "      <th></th>\n",
       "      <th>Display</th>\n",
       "      <th>Camera</th>\n",
       "      <th>Battery</th>\n",
       "      <th>Rating</th>\n",
       "      <th>Price</th>\n",
       "      <th>Mobile Brand</th>\n",
       "      <th>Mobile Color</th>\n",
       "      <th>RAM</th>\n",
       "      <th>Storage</th>\n",
       "      <th>Expandable Memory</th>\n",
       "      <th>Mobile_Display</th>\n",
       "    </tr>\n",
       "  </thead>\n",
       "  <tbody>\n",
       "    <tr>\n",
       "      <th>0</th>\n",
       "      <td>16.51 cm (6.5 inch) HD+ Display</td>\n",
       "      <td>13MP + 2MP | 5MP Front Camera</td>\n",
       "      <td>5000 mAh Battery</td>\n",
       "      <td>4.4</td>\n",
       "      <td>₹6,999</td>\n",
       "      <td>realme C11</td>\n",
       "      <td>Rich Grey</td>\n",
       "      <td>2 GB RAM</td>\n",
       "      <td>32 GB ROM</td>\n",
       "      <td>Expandable Upto 256 GB</td>\n",
       "      <td>16.51 cm</td>\n",
       "    </tr>\n",
       "    <tr>\n",
       "      <th>1</th>\n",
       "      <td>16.51 cm (6.5 inch) HD+ Display</td>\n",
       "      <td>13MP + 2MP | 5MP Front Camera</td>\n",
       "      <td>5000 mAh Battery</td>\n",
       "      <td>4.4</td>\n",
       "      <td>₹6,999</td>\n",
       "      <td>realme C11</td>\n",
       "      <td>Rich Green</td>\n",
       "      <td>2 GB RAM</td>\n",
       "      <td>32 GB ROM</td>\n",
       "      <td>Expandable Upto 256 GB</td>\n",
       "      <td>16.51 cm</td>\n",
       "    </tr>\n",
       "  </tbody>\n",
       "</table>\n",
       "</div>"
      ],
      "text/plain": [
       "                           Display                         Camera  \\\n",
       "0  16.51 cm (6.5 inch) HD+ Display  13MP + 2MP | 5MP Front Camera   \n",
       "1  16.51 cm (6.5 inch) HD+ Display  13MP + 2MP | 5MP Front Camera   \n",
       "\n",
       "            Battery  Rating   Price Mobile Brand Mobile Color        RAM  \\\n",
       "0  5000 mAh Battery     4.4  ₹6,999  realme C11     Rich Grey  2 GB RAM    \n",
       "1  5000 mAh Battery     4.4  ₹6,999  realme C11    Rich Green  2 GB RAM    \n",
       "\n",
       "       Storage        Expandable Memory Mobile_Display  \n",
       "0   32 GB ROM    Expandable Upto 256 GB      16.51 cm   \n",
       "1   32 GB ROM    Expandable Upto 256 GB      16.51 cm   "
      ]
     },
     "execution_count": 24,
     "metadata": {},
     "output_type": "execute_result"
    }
   ],
   "source": [
    "data.head(2)"
   ]
  },
  {
   "cell_type": "code",
   "execution_count": 25,
   "metadata": {},
   "outputs": [],
   "source": [
    "data[['Mobile_Display(in inch)']]=data['Display'].str.split('(').str.get(1)"
   ]
  },
  {
   "cell_type": "code",
   "execution_count": 26,
   "metadata": {},
   "outputs": [
    {
     "data": {
      "text/html": [
       "<div>\n",
       "<style scoped>\n",
       "    .dataframe tbody tr th:only-of-type {\n",
       "        vertical-align: middle;\n",
       "    }\n",
       "\n",
       "    .dataframe tbody tr th {\n",
       "        vertical-align: top;\n",
       "    }\n",
       "\n",
       "    .dataframe thead th {\n",
       "        text-align: right;\n",
       "    }\n",
       "</style>\n",
       "<table border=\"1\" class=\"dataframe\">\n",
       "  <thead>\n",
       "    <tr style=\"text-align: right;\">\n",
       "      <th></th>\n",
       "      <th>Display</th>\n",
       "      <th>Camera</th>\n",
       "      <th>Battery</th>\n",
       "      <th>Rating</th>\n",
       "      <th>Price</th>\n",
       "      <th>Mobile Brand</th>\n",
       "      <th>Mobile Color</th>\n",
       "      <th>RAM</th>\n",
       "      <th>Storage</th>\n",
       "      <th>Expandable Memory</th>\n",
       "      <th>Mobile_Display</th>\n",
       "      <th>Mobile_Display(in inch)</th>\n",
       "    </tr>\n",
       "  </thead>\n",
       "  <tbody>\n",
       "    <tr>\n",
       "      <th>0</th>\n",
       "      <td>16.51 cm (6.5 inch) HD+ Display</td>\n",
       "      <td>13MP + 2MP | 5MP Front Camera</td>\n",
       "      <td>5000 mAh Battery</td>\n",
       "      <td>4.4</td>\n",
       "      <td>₹6,999</td>\n",
       "      <td>realme C11</td>\n",
       "      <td>Rich Grey</td>\n",
       "      <td>2 GB RAM</td>\n",
       "      <td>32 GB ROM</td>\n",
       "      <td>Expandable Upto 256 GB</td>\n",
       "      <td>16.51 cm</td>\n",
       "      <td>6.5 inch) HD+ Display</td>\n",
       "    </tr>\n",
       "    <tr>\n",
       "      <th>1</th>\n",
       "      <td>16.51 cm (6.5 inch) HD+ Display</td>\n",
       "      <td>13MP + 2MP | 5MP Front Camera</td>\n",
       "      <td>5000 mAh Battery</td>\n",
       "      <td>4.4</td>\n",
       "      <td>₹6,999</td>\n",
       "      <td>realme C11</td>\n",
       "      <td>Rich Green</td>\n",
       "      <td>2 GB RAM</td>\n",
       "      <td>32 GB ROM</td>\n",
       "      <td>Expandable Upto 256 GB</td>\n",
       "      <td>16.51 cm</td>\n",
       "      <td>6.5 inch) HD+ Display</td>\n",
       "    </tr>\n",
       "  </tbody>\n",
       "</table>\n",
       "</div>"
      ],
      "text/plain": [
       "                           Display                         Camera  \\\n",
       "0  16.51 cm (6.5 inch) HD+ Display  13MP + 2MP | 5MP Front Camera   \n",
       "1  16.51 cm (6.5 inch) HD+ Display  13MP + 2MP | 5MP Front Camera   \n",
       "\n",
       "            Battery  Rating   Price Mobile Brand Mobile Color        RAM  \\\n",
       "0  5000 mAh Battery     4.4  ₹6,999  realme C11     Rich Grey  2 GB RAM    \n",
       "1  5000 mAh Battery     4.4  ₹6,999  realme C11    Rich Green  2 GB RAM    \n",
       "\n",
       "       Storage        Expandable Memory Mobile_Display Mobile_Display(in inch)  \n",
       "0   32 GB ROM    Expandable Upto 256 GB      16.51 cm    6.5 inch) HD+ Display  \n",
       "1   32 GB ROM    Expandable Upto 256 GB      16.51 cm    6.5 inch) HD+ Display  "
      ]
     },
     "execution_count": 26,
     "metadata": {},
     "output_type": "execute_result"
    }
   ],
   "source": [
    "data.head(2)"
   ]
  },
  {
   "cell_type": "code",
   "execution_count": 27,
   "metadata": {},
   "outputs": [],
   "source": [
    "data['Mobile_Display(in inch)']=data['Mobile_Display(in inch)'].str.split(')').str.get(0)"
   ]
  },
  {
   "cell_type": "code",
   "execution_count": 28,
   "metadata": {},
   "outputs": [],
   "source": [
    "data.drop(['Display'], axis = 1, inplace = True) # as we extract mobile length in cm and inch we will remove display column"
   ]
  },
  {
   "cell_type": "code",
   "execution_count": 29,
   "metadata": {},
   "outputs": [
    {
     "data": {
      "text/html": [
       "<div>\n",
       "<style scoped>\n",
       "    .dataframe tbody tr th:only-of-type {\n",
       "        vertical-align: middle;\n",
       "    }\n",
       "\n",
       "    .dataframe tbody tr th {\n",
       "        vertical-align: top;\n",
       "    }\n",
       "\n",
       "    .dataframe thead th {\n",
       "        text-align: right;\n",
       "    }\n",
       "</style>\n",
       "<table border=\"1\" class=\"dataframe\">\n",
       "  <thead>\n",
       "    <tr style=\"text-align: right;\">\n",
       "      <th></th>\n",
       "      <th>Camera</th>\n",
       "      <th>Battery</th>\n",
       "      <th>Rating</th>\n",
       "      <th>Price</th>\n",
       "      <th>Mobile Brand</th>\n",
       "      <th>Mobile Color</th>\n",
       "      <th>RAM</th>\n",
       "      <th>Storage</th>\n",
       "      <th>Expandable Memory</th>\n",
       "      <th>Mobile_Display</th>\n",
       "      <th>Mobile_Display(in inch)</th>\n",
       "    </tr>\n",
       "  </thead>\n",
       "  <tbody>\n",
       "    <tr>\n",
       "      <th>0</th>\n",
       "      <td>13MP + 2MP | 5MP Front Camera</td>\n",
       "      <td>5000 mAh Battery</td>\n",
       "      <td>4.4</td>\n",
       "      <td>₹6,999</td>\n",
       "      <td>realme C11</td>\n",
       "      <td>Rich Grey</td>\n",
       "      <td>2 GB RAM</td>\n",
       "      <td>32 GB ROM</td>\n",
       "      <td>Expandable Upto 256 GB</td>\n",
       "      <td>16.51 cm</td>\n",
       "      <td>6.5 inch</td>\n",
       "    </tr>\n",
       "    <tr>\n",
       "      <th>1</th>\n",
       "      <td>13MP + 2MP | 5MP Front Camera</td>\n",
       "      <td>5000 mAh Battery</td>\n",
       "      <td>4.4</td>\n",
       "      <td>₹6,999</td>\n",
       "      <td>realme C11</td>\n",
       "      <td>Rich Green</td>\n",
       "      <td>2 GB RAM</td>\n",
       "      <td>32 GB ROM</td>\n",
       "      <td>Expandable Upto 256 GB</td>\n",
       "      <td>16.51 cm</td>\n",
       "      <td>6.5 inch</td>\n",
       "    </tr>\n",
       "  </tbody>\n",
       "</table>\n",
       "</div>"
      ],
      "text/plain": [
       "                          Camera           Battery  Rating   Price  \\\n",
       "0  13MP + 2MP | 5MP Front Camera  5000 mAh Battery     4.4  ₹6,999   \n",
       "1  13MP + 2MP | 5MP Front Camera  5000 mAh Battery     4.4  ₹6,999   \n",
       "\n",
       "  Mobile Brand Mobile Color        RAM      Storage        Expandable Memory  \\\n",
       "0  realme C11     Rich Grey  2 GB RAM    32 GB ROM    Expandable Upto 256 GB   \n",
       "1  realme C11    Rich Green  2 GB RAM    32 GB ROM    Expandable Upto 256 GB   \n",
       "\n",
       "  Mobile_Display Mobile_Display(in inch)  \n",
       "0      16.51 cm                 6.5 inch  \n",
       "1      16.51 cm                 6.5 inch  "
      ]
     },
     "execution_count": 29,
     "metadata": {},
     "output_type": "execute_result"
    }
   ],
   "source": [
    "data.head(2)"
   ]
  },
  {
   "cell_type": "markdown",
   "metadata": {},
   "source": [
    "# Cleaning Camera Column\n",
    "\n",
    "we will separate front camera and back camera from camera column and make new column each."
   ]
  },
  {
   "cell_type": "code",
   "execution_count": 30,
   "metadata": {},
   "outputs": [],
   "source": [
    "data['Front_Camera']=data['Camera'].str.split('|').str.get(1)"
   ]
  },
  {
   "cell_type": "code",
   "execution_count": 31,
   "metadata": {},
   "outputs": [],
   "source": [
    "data['Camera']= data['Camera'].str.split('|').str.get(0)"
   ]
  },
  {
   "cell_type": "code",
   "execution_count": 32,
   "metadata": {},
   "outputs": [
    {
     "data": {
      "text/html": [
       "<div>\n",
       "<style scoped>\n",
       "    .dataframe tbody tr th:only-of-type {\n",
       "        vertical-align: middle;\n",
       "    }\n",
       "\n",
       "    .dataframe tbody tr th {\n",
       "        vertical-align: top;\n",
       "    }\n",
       "\n",
       "    .dataframe thead th {\n",
       "        text-align: right;\n",
       "    }\n",
       "</style>\n",
       "<table border=\"1\" class=\"dataframe\">\n",
       "  <thead>\n",
       "    <tr style=\"text-align: right;\">\n",
       "      <th></th>\n",
       "      <th>Camera</th>\n",
       "      <th>Battery</th>\n",
       "      <th>Rating</th>\n",
       "      <th>Price</th>\n",
       "      <th>Mobile Brand</th>\n",
       "      <th>Mobile Color</th>\n",
       "      <th>RAM</th>\n",
       "      <th>Storage</th>\n",
       "      <th>Expandable Memory</th>\n",
       "      <th>Mobile_Display</th>\n",
       "      <th>Mobile_Display(in inch)</th>\n",
       "      <th>Front_Camera</th>\n",
       "    </tr>\n",
       "  </thead>\n",
       "  <tbody>\n",
       "    <tr>\n",
       "      <th>0</th>\n",
       "      <td>13MP + 2MP</td>\n",
       "      <td>5000 mAh Battery</td>\n",
       "      <td>4.4</td>\n",
       "      <td>₹6,999</td>\n",
       "      <td>realme C11</td>\n",
       "      <td>Rich Grey</td>\n",
       "      <td>2 GB RAM</td>\n",
       "      <td>32 GB ROM</td>\n",
       "      <td>Expandable Upto 256 GB</td>\n",
       "      <td>16.51 cm</td>\n",
       "      <td>6.5 inch</td>\n",
       "      <td>5MP Front Camera</td>\n",
       "    </tr>\n",
       "    <tr>\n",
       "      <th>1</th>\n",
       "      <td>13MP + 2MP</td>\n",
       "      <td>5000 mAh Battery</td>\n",
       "      <td>4.4</td>\n",
       "      <td>₹6,999</td>\n",
       "      <td>realme C11</td>\n",
       "      <td>Rich Green</td>\n",
       "      <td>2 GB RAM</td>\n",
       "      <td>32 GB ROM</td>\n",
       "      <td>Expandable Upto 256 GB</td>\n",
       "      <td>16.51 cm</td>\n",
       "      <td>6.5 inch</td>\n",
       "      <td>5MP Front Camera</td>\n",
       "    </tr>\n",
       "  </tbody>\n",
       "</table>\n",
       "</div>"
      ],
      "text/plain": [
       "        Camera           Battery  Rating   Price Mobile Brand Mobile Color  \\\n",
       "0  13MP + 2MP   5000 mAh Battery     4.4  ₹6,999  realme C11     Rich Grey   \n",
       "1  13MP + 2MP   5000 mAh Battery     4.4  ₹6,999  realme C11    Rich Green   \n",
       "\n",
       "         RAM      Storage        Expandable Memory Mobile_Display  \\\n",
       "0  2 GB RAM    32 GB ROM    Expandable Upto 256 GB      16.51 cm    \n",
       "1  2 GB RAM    32 GB ROM    Expandable Upto 256 GB      16.51 cm    \n",
       "\n",
       "  Mobile_Display(in inch)       Front_Camera  \n",
       "0                6.5 inch   5MP Front Camera  \n",
       "1                6.5 inch   5MP Front Camera  "
      ]
     },
     "execution_count": 32,
     "metadata": {},
     "output_type": "execute_result"
    }
   ],
   "source": [
    "data.head(2)"
   ]
  },
  {
   "cell_type": "markdown",
   "metadata": {},
   "source": [
    "# Cleaning Battery Column\n",
    "\n",
    "we will separate battery power and batterry type from battery column and make separate column each."
   ]
  },
  {
   "cell_type": "code",
   "execution_count": 33,
   "metadata": {},
   "outputs": [
    {
     "data": {
      "text/plain": [
       "array(['5000 mAh Battery', '5000 mAh Li-ion Polymer Battery',\n",
       "       '5020 mAh Battery', '4500 mAh Battery',\n",
       "       '5000 mAh Lithium Polymer Battery',\n",
       "       '6000 mAh Lithium-ion Polymer Battery',\n",
       "       '6000 mAh Lithium-ion Battery', '6000 mAh Battery',\n",
       "       '5000 mAh Lithium-ion Polymer Battery',\n",
       "       '5200 mAh Li-ion Polymer Battery', '5000 mAh Lithium-ion Battery',\n",
       "       '6000 mAh Li-ion Polymer Battery'], dtype=object)"
      ]
     },
     "execution_count": 33,
     "metadata": {},
     "output_type": "execute_result"
    }
   ],
   "source": [
    "data['Battery'].unique()"
   ]
  },
  {
   "cell_type": "code",
   "execution_count": 34,
   "metadata": {},
   "outputs": [],
   "source": [
    "data[['Battery_Types']]=data['Battery'].str.split('mAh').str.get(1)"
   ]
  },
  {
   "cell_type": "code",
   "execution_count": 35,
   "metadata": {},
   "outputs": [
    {
     "data": {
      "text/html": [
       "<div>\n",
       "<style scoped>\n",
       "    .dataframe tbody tr th:only-of-type {\n",
       "        vertical-align: middle;\n",
       "    }\n",
       "\n",
       "    .dataframe tbody tr th {\n",
       "        vertical-align: top;\n",
       "    }\n",
       "\n",
       "    .dataframe thead th {\n",
       "        text-align: right;\n",
       "    }\n",
       "</style>\n",
       "<table border=\"1\" class=\"dataframe\">\n",
       "  <thead>\n",
       "    <tr style=\"text-align: right;\">\n",
       "      <th></th>\n",
       "      <th>Camera</th>\n",
       "      <th>Battery</th>\n",
       "      <th>Rating</th>\n",
       "      <th>Price</th>\n",
       "      <th>Mobile Brand</th>\n",
       "      <th>Mobile Color</th>\n",
       "      <th>RAM</th>\n",
       "      <th>Storage</th>\n",
       "      <th>Expandable Memory</th>\n",
       "      <th>Mobile_Display</th>\n",
       "      <th>Mobile_Display(in inch)</th>\n",
       "      <th>Front_Camera</th>\n",
       "      <th>Battery_Types</th>\n",
       "    </tr>\n",
       "  </thead>\n",
       "  <tbody>\n",
       "    <tr>\n",
       "      <th>0</th>\n",
       "      <td>13MP + 2MP</td>\n",
       "      <td>5000 mAh Battery</td>\n",
       "      <td>4.4</td>\n",
       "      <td>₹6,999</td>\n",
       "      <td>realme C11</td>\n",
       "      <td>Rich Grey</td>\n",
       "      <td>2 GB RAM</td>\n",
       "      <td>32 GB ROM</td>\n",
       "      <td>Expandable Upto 256 GB</td>\n",
       "      <td>16.51 cm</td>\n",
       "      <td>6.5 inch</td>\n",
       "      <td>5MP Front Camera</td>\n",
       "      <td>Battery</td>\n",
       "    </tr>\n",
       "    <tr>\n",
       "      <th>1</th>\n",
       "      <td>13MP + 2MP</td>\n",
       "      <td>5000 mAh Battery</td>\n",
       "      <td>4.4</td>\n",
       "      <td>₹6,999</td>\n",
       "      <td>realme C11</td>\n",
       "      <td>Rich Green</td>\n",
       "      <td>2 GB RAM</td>\n",
       "      <td>32 GB ROM</td>\n",
       "      <td>Expandable Upto 256 GB</td>\n",
       "      <td>16.51 cm</td>\n",
       "      <td>6.5 inch</td>\n",
       "      <td>5MP Front Camera</td>\n",
       "      <td>Battery</td>\n",
       "    </tr>\n",
       "    <tr>\n",
       "      <th>2</th>\n",
       "      <td>13MP + 2MP + 2MP</td>\n",
       "      <td>5000 mAh Li-ion Polymer Battery</td>\n",
       "      <td>4.3</td>\n",
       "      <td>₹7,999</td>\n",
       "      <td>POCO C3</td>\n",
       "      <td>Arctic Blue</td>\n",
       "      <td>4 GB RAM</td>\n",
       "      <td>64 GB ROM</td>\n",
       "      <td>Expandable Upto 512 GB</td>\n",
       "      <td>16.59 cm</td>\n",
       "      <td>6.53 inch</td>\n",
       "      <td>5MP Front Camera</td>\n",
       "      <td>Li-ion Polymer Battery</td>\n",
       "    </tr>\n",
       "    <tr>\n",
       "      <th>3</th>\n",
       "      <td>13MP Rear Camera</td>\n",
       "      <td>5020 mAh Battery</td>\n",
       "      <td>4.4</td>\n",
       "      <td>₹9,499</td>\n",
       "      <td>Redmi 9 Prime</td>\n",
       "      <td>Space Blue</td>\n",
       "      <td>4 GB RAM</td>\n",
       "      <td>64 GB ROM</td>\n",
       "      <td>Expandable Upto 512 GB</td>\n",
       "      <td>16.59 cm</td>\n",
       "      <td>6.53 inch</td>\n",
       "      <td>8MP Front Camera</td>\n",
       "      <td>Battery</td>\n",
       "    </tr>\n",
       "    <tr>\n",
       "      <th>4</th>\n",
       "      <td>108MP + 8MP + 2MP + 2MP</td>\n",
       "      <td>4500 mAh Battery</td>\n",
       "      <td>4.5</td>\n",
       "      <td>₹17,999</td>\n",
       "      <td>realme 8 Pro</td>\n",
       "      <td>Infinite Blue</td>\n",
       "      <td>6 GB RAM</td>\n",
       "      <td>128 GB ROM</td>\n",
       "      <td>Expandable Upto 256 GB</td>\n",
       "      <td>16.26 cm</td>\n",
       "      <td>6.4 inch</td>\n",
       "      <td>16MP Front Camera</td>\n",
       "      <td>Battery</td>\n",
       "    </tr>\n",
       "  </tbody>\n",
       "</table>\n",
       "</div>"
      ],
      "text/plain": [
       "                     Camera                          Battery  Rating    Price  \\\n",
       "0               13MP + 2MP                  5000 mAh Battery     4.4   ₹6,999   \n",
       "1               13MP + 2MP                  5000 mAh Battery     4.4   ₹6,999   \n",
       "2         13MP + 2MP + 2MP   5000 mAh Li-ion Polymer Battery     4.3   ₹7,999   \n",
       "3         13MP Rear Camera                  5020 mAh Battery     4.4   ₹9,499   \n",
       "4  108MP + 8MP + 2MP + 2MP                  4500 mAh Battery     4.5  ₹17,999   \n",
       "\n",
       "     Mobile Brand   Mobile Color        RAM       Storage  \\\n",
       "0     realme C11       Rich Grey  2 GB RAM     32 GB ROM    \n",
       "1     realme C11      Rich Green  2 GB RAM     32 GB ROM    \n",
       "2        POCO C3     Arctic Blue  4 GB RAM     64 GB ROM    \n",
       "3  Redmi 9 Prime      Space Blue  4 GB RAM     64 GB ROM    \n",
       "4   realme 8 Pro   Infinite Blue  6 GB RAM    128 GB ROM    \n",
       "\n",
       "         Expandable Memory Mobile_Display Mobile_Display(in inch)  \\\n",
       "0   Expandable Upto 256 GB      16.51 cm                 6.5 inch   \n",
       "1   Expandable Upto 256 GB      16.51 cm                 6.5 inch   \n",
       "2   Expandable Upto 512 GB      16.59 cm                6.53 inch   \n",
       "3   Expandable Upto 512 GB      16.59 cm                6.53 inch   \n",
       "4   Expandable Upto 256 GB      16.26 cm                 6.4 inch   \n",
       "\n",
       "         Front_Camera            Battery_Types  \n",
       "0    5MP Front Camera                  Battery  \n",
       "1    5MP Front Camera                  Battery  \n",
       "2    5MP Front Camera   Li-ion Polymer Battery  \n",
       "3    8MP Front Camera                  Battery  \n",
       "4   16MP Front Camera                  Battery  "
      ]
     },
     "execution_count": 35,
     "metadata": {},
     "output_type": "execute_result"
    }
   ],
   "source": [
    "data.head()"
   ]
  },
  {
   "cell_type": "code",
   "execution_count": 36,
   "metadata": {},
   "outputs": [
    {
     "data": {
      "text/plain": [
       "array([' Battery', ' Li-ion Polymer Battery', ' Lithium Polymer Battery',\n",
       "       ' Lithium-ion Polymer Battery', ' Lithium-ion Battery'],\n",
       "      dtype=object)"
      ]
     },
     "execution_count": 36,
     "metadata": {},
     "output_type": "execute_result"
    }
   ],
   "source": [
    "data['Battery_Types'].unique()"
   ]
  },
  {
   "cell_type": "markdown",
   "metadata": {},
   "source": [
    "# Cleaning Price Column\n",
    "\n",
    "we will remove rupees symbol from price and change data type to int."
   ]
  },
  {
   "cell_type": "code",
   "execution_count": 37,
   "metadata": {},
   "outputs": [],
   "source": [
    "data['Price']=data['Price'].str.strip(\"₹\")"
   ]
  },
  {
   "cell_type": "code",
   "execution_count": 38,
   "metadata": {},
   "outputs": [],
   "source": [
    "data['Price']=data['Price'].str.replace(',','')"
   ]
  },
  {
   "cell_type": "code",
   "execution_count": 39,
   "metadata": {},
   "outputs": [],
   "source": [
    "data['Price']=data['Price'].astype('int64')"
   ]
  },
  {
   "cell_type": "code",
   "execution_count": 40,
   "metadata": {},
   "outputs": [
    {
     "data": {
      "text/html": [
       "<div>\n",
       "<style scoped>\n",
       "    .dataframe tbody tr th:only-of-type {\n",
       "        vertical-align: middle;\n",
       "    }\n",
       "\n",
       "    .dataframe tbody tr th {\n",
       "        vertical-align: top;\n",
       "    }\n",
       "\n",
       "    .dataframe thead th {\n",
       "        text-align: right;\n",
       "    }\n",
       "</style>\n",
       "<table border=\"1\" class=\"dataframe\">\n",
       "  <thead>\n",
       "    <tr style=\"text-align: right;\">\n",
       "      <th></th>\n",
       "      <th>Camera</th>\n",
       "      <th>Battery</th>\n",
       "      <th>Rating</th>\n",
       "      <th>Price</th>\n",
       "      <th>Mobile Brand</th>\n",
       "      <th>Mobile Color</th>\n",
       "      <th>RAM</th>\n",
       "      <th>Storage</th>\n",
       "      <th>Expandable Memory</th>\n",
       "      <th>Mobile_Display</th>\n",
       "      <th>Mobile_Display(in inch)</th>\n",
       "      <th>Front_Camera</th>\n",
       "      <th>Battery_Types</th>\n",
       "    </tr>\n",
       "  </thead>\n",
       "  <tbody>\n",
       "    <tr>\n",
       "      <th>0</th>\n",
       "      <td>13MP + 2MP</td>\n",
       "      <td>5000 mAh Battery</td>\n",
       "      <td>4.4</td>\n",
       "      <td>6999</td>\n",
       "      <td>realme C11</td>\n",
       "      <td>Rich Grey</td>\n",
       "      <td>2 GB RAM</td>\n",
       "      <td>32 GB ROM</td>\n",
       "      <td>Expandable Upto 256 GB</td>\n",
       "      <td>16.51 cm</td>\n",
       "      <td>6.5 inch</td>\n",
       "      <td>5MP Front Camera</td>\n",
       "      <td>Battery</td>\n",
       "    </tr>\n",
       "    <tr>\n",
       "      <th>1</th>\n",
       "      <td>13MP + 2MP</td>\n",
       "      <td>5000 mAh Battery</td>\n",
       "      <td>4.4</td>\n",
       "      <td>6999</td>\n",
       "      <td>realme C11</td>\n",
       "      <td>Rich Green</td>\n",
       "      <td>2 GB RAM</td>\n",
       "      <td>32 GB ROM</td>\n",
       "      <td>Expandable Upto 256 GB</td>\n",
       "      <td>16.51 cm</td>\n",
       "      <td>6.5 inch</td>\n",
       "      <td>5MP Front Camera</td>\n",
       "      <td>Battery</td>\n",
       "    </tr>\n",
       "  </tbody>\n",
       "</table>\n",
       "</div>"
      ],
      "text/plain": [
       "        Camera           Battery  Rating  Price Mobile Brand Mobile Color  \\\n",
       "0  13MP + 2MP   5000 mAh Battery     4.4   6999  realme C11     Rich Grey   \n",
       "1  13MP + 2MP   5000 mAh Battery     4.4   6999  realme C11    Rich Green   \n",
       "\n",
       "         RAM      Storage        Expandable Memory Mobile_Display  \\\n",
       "0  2 GB RAM    32 GB ROM    Expandable Upto 256 GB      16.51 cm    \n",
       "1  2 GB RAM    32 GB ROM    Expandable Upto 256 GB      16.51 cm    \n",
       "\n",
       "  Mobile_Display(in inch)       Front_Camera Battery_Types  \n",
       "0                6.5 inch   5MP Front Camera       Battery  \n",
       "1                6.5 inch   5MP Front Camera       Battery  "
      ]
     },
     "execution_count": 40,
     "metadata": {},
     "output_type": "execute_result"
    }
   ],
   "source": [
    "data.head(2)"
   ]
  },
  {
   "cell_type": "code",
   "execution_count": 41,
   "metadata": {},
   "outputs": [],
   "source": [
    "data.rename(columns={'Mobile_Display':'Mobile_Display(in cm)'},inplace = True) # Renaming Column"
   ]
  },
  {
   "cell_type": "code",
   "execution_count": 42,
   "metadata": {},
   "outputs": [
    {
     "data": {
      "text/html": [
       "<div>\n",
       "<style scoped>\n",
       "    .dataframe tbody tr th:only-of-type {\n",
       "        vertical-align: middle;\n",
       "    }\n",
       "\n",
       "    .dataframe tbody tr th {\n",
       "        vertical-align: top;\n",
       "    }\n",
       "\n",
       "    .dataframe thead th {\n",
       "        text-align: right;\n",
       "    }\n",
       "</style>\n",
       "<table border=\"1\" class=\"dataframe\">\n",
       "  <thead>\n",
       "    <tr style=\"text-align: right;\">\n",
       "      <th></th>\n",
       "      <th>Camera</th>\n",
       "      <th>Battery</th>\n",
       "      <th>Rating</th>\n",
       "      <th>Price</th>\n",
       "      <th>Mobile Brand</th>\n",
       "      <th>Mobile Color</th>\n",
       "      <th>RAM</th>\n",
       "      <th>Storage</th>\n",
       "      <th>Expandable Memory</th>\n",
       "      <th>Mobile_Display(in cm)</th>\n",
       "      <th>Mobile_Display(in inch)</th>\n",
       "      <th>Front_Camera</th>\n",
       "      <th>Battery_Types</th>\n",
       "    </tr>\n",
       "  </thead>\n",
       "  <tbody>\n",
       "    <tr>\n",
       "      <th>0</th>\n",
       "      <td>13MP + 2MP</td>\n",
       "      <td>5000 mAh Battery</td>\n",
       "      <td>4.4</td>\n",
       "      <td>6999</td>\n",
       "      <td>realme C11</td>\n",
       "      <td>Rich Grey</td>\n",
       "      <td>2 GB RAM</td>\n",
       "      <td>32 GB ROM</td>\n",
       "      <td>Expandable Upto 256 GB</td>\n",
       "      <td>16.51 cm</td>\n",
       "      <td>6.5 inch</td>\n",
       "      <td>5MP Front Camera</td>\n",
       "      <td>Battery</td>\n",
       "    </tr>\n",
       "    <tr>\n",
       "      <th>1</th>\n",
       "      <td>13MP + 2MP</td>\n",
       "      <td>5000 mAh Battery</td>\n",
       "      <td>4.4</td>\n",
       "      <td>6999</td>\n",
       "      <td>realme C11</td>\n",
       "      <td>Rich Green</td>\n",
       "      <td>2 GB RAM</td>\n",
       "      <td>32 GB ROM</td>\n",
       "      <td>Expandable Upto 256 GB</td>\n",
       "      <td>16.51 cm</td>\n",
       "      <td>6.5 inch</td>\n",
       "      <td>5MP Front Camera</td>\n",
       "      <td>Battery</td>\n",
       "    </tr>\n",
       "  </tbody>\n",
       "</table>\n",
       "</div>"
      ],
      "text/plain": [
       "        Camera           Battery  Rating  Price Mobile Brand Mobile Color  \\\n",
       "0  13MP + 2MP   5000 mAh Battery     4.4   6999  realme C11     Rich Grey   \n",
       "1  13MP + 2MP   5000 mAh Battery     4.4   6999  realme C11    Rich Green   \n",
       "\n",
       "         RAM      Storage        Expandable Memory Mobile_Display(in cm)  \\\n",
       "0  2 GB RAM    32 GB ROM    Expandable Upto 256 GB             16.51 cm    \n",
       "1  2 GB RAM    32 GB ROM    Expandable Upto 256 GB             16.51 cm    \n",
       "\n",
       "  Mobile_Display(in inch)       Front_Camera Battery_Types  \n",
       "0                6.5 inch   5MP Front Camera       Battery  \n",
       "1                6.5 inch   5MP Front Camera       Battery  "
      ]
     },
     "execution_count": 42,
     "metadata": {},
     "output_type": "execute_result"
    }
   ],
   "source": [
    "data.head(2)"
   ]
  },
  {
   "cell_type": "code",
   "execution_count": 44,
   "metadata": {},
   "outputs": [
    {
     "data": {
      "text/plain": [
       "64MP + 8MP + 2MP + 2MP                  182\n",
       "13MP Rear Camera                        180\n",
       "13MP + 2MP                              142\n",
       "108MP + 8MP + 2MP + 2MP                 120\n",
       "48MP + 2MP + 2MP                         90\n",
       "13MP + 8MP + 2MP + 2MP                   86\n",
       "13MP + 2MP + 2MP                         85\n",
       "13MP + Digital Camera                    81\n",
       "16MP + 2MP + 2MP + Low Light Sensor      78\n",
       "13MP + Low Light Sensor                  78\n",
       "64MP + 13MP + 2MP + 2MP                  60\n",
       "48MP + 8MP + 5MP + 2MP                   52\n",
       "13MP + Depth Sensor                      50\n",
       "48MP Rear Camera                         30\n",
       "12MP + 2MP + 2MP                         26\n",
       "Name: Camera, dtype: int64"
      ]
     },
     "execution_count": 44,
     "metadata": {},
     "output_type": "execute_result"
    }
   ],
   "source": [
    "data['Camera'].value_counts()"
   ]
  },
  {
   "cell_type": "code",
   "execution_count": 45,
   "metadata": {},
   "outputs": [
    {
     "data": {
      "text/plain": [
       "array([' 5MP Front Camera', ' 8MP Front Camera', ' 16MP Front Camera',\n",
       "       ' 20MP Front Camera'], dtype=object)"
      ]
     },
     "execution_count": 45,
     "metadata": {},
     "output_type": "execute_result"
    }
   ],
   "source": [
    "data['Front_Camera'].unique()"
   ]
  },
  {
   "cell_type": "code",
   "execution_count": 46,
   "metadata": {},
   "outputs": [],
   "source": [
    "from sklearn.preprocessing import LabelEncoder"
   ]
  },
  {
   "cell_type": "code",
   "execution_count": 47,
   "metadata": {},
   "outputs": [
    {
     "data": {
      "text/plain": [
       "{0: '108MP + 8MP + 2MP + 2MP ',\n",
       " 1: '12MP + 2MP + 2MP ',\n",
       " 2: '13MP + 2MP ',\n",
       " 3: '13MP + 2MP + 2MP ',\n",
       " 4: '13MP + 8MP + 2MP + 2MP ',\n",
       " 5: '13MP + Depth Sensor ',\n",
       " 6: '13MP + Digital Camera ',\n",
       " 7: '13MP + Low Light Sensor ',\n",
       " 8: '13MP Rear Camera ',\n",
       " 9: '16MP + 2MP + 2MP + Low Light Sensor ',\n",
       " 10: '48MP + 2MP + 2MP ',\n",
       " 11: '48MP + 8MP + 5MP + 2MP ',\n",
       " 12: '48MP Rear Camera ',\n",
       " 13: '64MP + 13MP + 2MP + 2MP ',\n",
       " 14: '64MP + 8MP + 2MP + 2MP '}"
      ]
     },
     "execution_count": 47,
     "metadata": {},
     "output_type": "execute_result"
    }
   ],
   "source": [
    "# we will do label encoding for camera column and convert it into numerical value\n",
    "gle = LabelEncoder()\n",
    "Camera_Types = gle.fit_transform(data['Camera'])\n",
    "genre_mappings = {index: label for index, label in \n",
    "                  enumerate(gle.classes_)}\n",
    "genre_mappings"
   ]
  },
  {
   "cell_type": "code",
   "execution_count": 48,
   "metadata": {},
   "outputs": [],
   "source": [
    "data['Camera_Types'] = Camera_Types"
   ]
  },
  {
   "cell_type": "code",
   "execution_count": 49,
   "metadata": {},
   "outputs": [
    {
     "data": {
      "text/html": [
       "<div>\n",
       "<style scoped>\n",
       "    .dataframe tbody tr th:only-of-type {\n",
       "        vertical-align: middle;\n",
       "    }\n",
       "\n",
       "    .dataframe tbody tr th {\n",
       "        vertical-align: top;\n",
       "    }\n",
       "\n",
       "    .dataframe thead th {\n",
       "        text-align: right;\n",
       "    }\n",
       "</style>\n",
       "<table border=\"1\" class=\"dataframe\">\n",
       "  <thead>\n",
       "    <tr style=\"text-align: right;\">\n",
       "      <th></th>\n",
       "      <th>Camera</th>\n",
       "      <th>Battery</th>\n",
       "      <th>Rating</th>\n",
       "      <th>Price</th>\n",
       "      <th>Mobile Brand</th>\n",
       "      <th>Mobile Color</th>\n",
       "      <th>RAM</th>\n",
       "      <th>Storage</th>\n",
       "      <th>Expandable Memory</th>\n",
       "      <th>Mobile_Display(in cm)</th>\n",
       "      <th>Mobile_Display(in inch)</th>\n",
       "      <th>Front_Camera</th>\n",
       "      <th>Battery_Types</th>\n",
       "      <th>Camera_Types</th>\n",
       "    </tr>\n",
       "  </thead>\n",
       "  <tbody>\n",
       "    <tr>\n",
       "      <th>0</th>\n",
       "      <td>13MP + 2MP</td>\n",
       "      <td>5000 mAh Battery</td>\n",
       "      <td>4.4</td>\n",
       "      <td>6999</td>\n",
       "      <td>realme C11</td>\n",
       "      <td>Rich Grey</td>\n",
       "      <td>2 GB RAM</td>\n",
       "      <td>32 GB ROM</td>\n",
       "      <td>Expandable Upto 256 GB</td>\n",
       "      <td>16.51 cm</td>\n",
       "      <td>6.5 inch</td>\n",
       "      <td>5MP Front Camera</td>\n",
       "      <td>Battery</td>\n",
       "      <td>2</td>\n",
       "    </tr>\n",
       "    <tr>\n",
       "      <th>1</th>\n",
       "      <td>13MP + 2MP</td>\n",
       "      <td>5000 mAh Battery</td>\n",
       "      <td>4.4</td>\n",
       "      <td>6999</td>\n",
       "      <td>realme C11</td>\n",
       "      <td>Rich Green</td>\n",
       "      <td>2 GB RAM</td>\n",
       "      <td>32 GB ROM</td>\n",
       "      <td>Expandable Upto 256 GB</td>\n",
       "      <td>16.51 cm</td>\n",
       "      <td>6.5 inch</td>\n",
       "      <td>5MP Front Camera</td>\n",
       "      <td>Battery</td>\n",
       "      <td>2</td>\n",
       "    </tr>\n",
       "  </tbody>\n",
       "</table>\n",
       "</div>"
      ],
      "text/plain": [
       "        Camera           Battery  Rating  Price Mobile Brand Mobile Color  \\\n",
       "0  13MP + 2MP   5000 mAh Battery     4.4   6999  realme C11     Rich Grey   \n",
       "1  13MP + 2MP   5000 mAh Battery     4.4   6999  realme C11    Rich Green   \n",
       "\n",
       "         RAM      Storage        Expandable Memory Mobile_Display(in cm)  \\\n",
       "0  2 GB RAM    32 GB ROM    Expandable Upto 256 GB             16.51 cm    \n",
       "1  2 GB RAM    32 GB ROM    Expandable Upto 256 GB             16.51 cm    \n",
       "\n",
       "  Mobile_Display(in inch)       Front_Camera Battery_Types  Camera_Types  \n",
       "0                6.5 inch   5MP Front Camera       Battery             2  \n",
       "1                6.5 inch   5MP Front Camera       Battery             2  "
      ]
     },
     "execution_count": 49,
     "metadata": {},
     "output_type": "execute_result"
    }
   ],
   "source": [
    "data.head(2)"
   ]
  },
  {
   "cell_type": "code",
   "execution_count": 50,
   "metadata": {},
   "outputs": [
    {
     "data": {
      "text/plain": [
       "Infinite Black       60\n",
       "Infinite Blue        60\n",
       "Power Black          60\n",
       "Matte Black          60\n",
       "Power Blue           56\n",
       "Laser Blue           56\n",
       "Power Silver         55\n",
       "Cyber Black          52\n",
       "Mist Blue            52\n",
       "Cyber Silver         52\n",
       "Obsidian Black       52\n",
       "Ocean Wave           51\n",
       "Red                  30\n",
       "Sunrise Flare        30\n",
       "Midnight Black       30\n",
       "Blazing Blue         30\n",
       "Cool Blue            30\n",
       "Rich Grey            30\n",
       "Shadow Gray          30\n",
       "Cobalt Blue          30\n",
       "Sea Blue             30\n",
       "Rich Green           30\n",
       "Arctic Blue          30\n",
       "Space Blue           30\n",
       "Nature Green         30\n",
       "Fusion Green         26\n",
       "Glory Silver         26\n",
       "Morandi Green        26\n",
       "Moonlight Jade       26\n",
       "Green and Greener    26\n",
       "Royal Blue           26\n",
       "Laser Black          26\n",
       "Out of the Blue      26\n",
       "Aegean Blue          26\n",
       "Quetzal Cyan         25\n",
       "Black                25\n",
       "Name: Mobile Color, dtype: int64"
      ]
     },
     "execution_count": 50,
     "metadata": {},
     "output_type": "execute_result"
    }
   ],
   "source": [
    "data['Mobile Color'].value_counts()"
   ]
  },
  {
   "cell_type": "code",
   "execution_count": 51,
   "metadata": {},
   "outputs": [
    {
     "data": {
      "text/plain": [
       "{' Battery': 486,\n",
       " ' Lithium-ion Polymer Battery': 333,\n",
       " ' Li-ion Polymer Battery': 216,\n",
       " ' Lithium-ion Battery': 215,\n",
       " ' Lithium Polymer Battery': 90}"
      ]
     },
     "execution_count": 51,
     "metadata": {},
     "output_type": "execute_result"
    }
   ],
   "source": [
    "data_battery_frequency = data['Battery_Types'].value_counts().to_dict()\n",
    "data_battery_frequency"
   ]
  },
  {
   "cell_type": "code",
   "execution_count": 52,
   "metadata": {},
   "outputs": [],
   "source": [
    "data['Battery_Types'] = data['Battery_Types'].map(data_battery_frequency)"
   ]
  },
  {
   "cell_type": "code",
   "execution_count": 53,
   "metadata": {},
   "outputs": [],
   "source": [
    "# convert count values into 0,1 and 2\n",
    "# we have 3 types battery. normal battery, lithium ion polymer and lithium polymer battery.\n",
    "data['Battery_Types']= data['Battery_Types'].replace(486,0)\n",
    "data['Battery_Types']= data['Battery_Types'].replace(333,1)\n",
    "data['Battery_Types']= data['Battery_Types'].replace(216,1)\n",
    "data['Battery_Types']= data['Battery_Types'].replace(215,1)\n",
    "data['Battery_Types']= data['Battery_Types'].replace(90,2)"
   ]
  },
  {
   "cell_type": "code",
   "execution_count": 54,
   "metadata": {},
   "outputs": [
    {
     "data": {
      "text/html": [
       "<div>\n",
       "<style scoped>\n",
       "    .dataframe tbody tr th:only-of-type {\n",
       "        vertical-align: middle;\n",
       "    }\n",
       "\n",
       "    .dataframe tbody tr th {\n",
       "        vertical-align: top;\n",
       "    }\n",
       "\n",
       "    .dataframe thead th {\n",
       "        text-align: right;\n",
       "    }\n",
       "</style>\n",
       "<table border=\"1\" class=\"dataframe\">\n",
       "  <thead>\n",
       "    <tr style=\"text-align: right;\">\n",
       "      <th></th>\n",
       "      <th>Camera</th>\n",
       "      <th>Battery</th>\n",
       "      <th>Rating</th>\n",
       "      <th>Price</th>\n",
       "      <th>Mobile Brand</th>\n",
       "      <th>Mobile Color</th>\n",
       "      <th>RAM</th>\n",
       "      <th>Storage</th>\n",
       "      <th>Expandable Memory</th>\n",
       "      <th>Mobile_Display(in cm)</th>\n",
       "      <th>Mobile_Display(in inch)</th>\n",
       "      <th>Front_Camera</th>\n",
       "      <th>Battery_Types</th>\n",
       "      <th>Camera_Types</th>\n",
       "    </tr>\n",
       "  </thead>\n",
       "  <tbody>\n",
       "    <tr>\n",
       "      <th>0</th>\n",
       "      <td>13MP + 2MP</td>\n",
       "      <td>5000 mAh Battery</td>\n",
       "      <td>4.4</td>\n",
       "      <td>6999</td>\n",
       "      <td>realme C11</td>\n",
       "      <td>Rich Grey</td>\n",
       "      <td>2 GB RAM</td>\n",
       "      <td>32 GB ROM</td>\n",
       "      <td>Expandable Upto 256 GB</td>\n",
       "      <td>16.51 cm</td>\n",
       "      <td>6.5 inch</td>\n",
       "      <td>5MP Front Camera</td>\n",
       "      <td>0</td>\n",
       "      <td>2</td>\n",
       "    </tr>\n",
       "    <tr>\n",
       "      <th>1</th>\n",
       "      <td>13MP + 2MP</td>\n",
       "      <td>5000 mAh Battery</td>\n",
       "      <td>4.4</td>\n",
       "      <td>6999</td>\n",
       "      <td>realme C11</td>\n",
       "      <td>Rich Green</td>\n",
       "      <td>2 GB RAM</td>\n",
       "      <td>32 GB ROM</td>\n",
       "      <td>Expandable Upto 256 GB</td>\n",
       "      <td>16.51 cm</td>\n",
       "      <td>6.5 inch</td>\n",
       "      <td>5MP Front Camera</td>\n",
       "      <td>0</td>\n",
       "      <td>2</td>\n",
       "    </tr>\n",
       "  </tbody>\n",
       "</table>\n",
       "</div>"
      ],
      "text/plain": [
       "        Camera           Battery  Rating  Price Mobile Brand Mobile Color  \\\n",
       "0  13MP + 2MP   5000 mAh Battery     4.4   6999  realme C11     Rich Grey   \n",
       "1  13MP + 2MP   5000 mAh Battery     4.4   6999  realme C11    Rich Green   \n",
       "\n",
       "         RAM      Storage        Expandable Memory Mobile_Display(in cm)  \\\n",
       "0  2 GB RAM    32 GB ROM    Expandable Upto 256 GB             16.51 cm    \n",
       "1  2 GB RAM    32 GB ROM    Expandable Upto 256 GB             16.51 cm    \n",
       "\n",
       "  Mobile_Display(in inch)       Front_Camera  Battery_Types  Camera_Types  \n",
       "0                6.5 inch   5MP Front Camera              0             2  \n",
       "1                6.5 inch   5MP Front Camera              0             2  "
      ]
     },
     "execution_count": 54,
     "metadata": {},
     "output_type": "execute_result"
    }
   ],
   "source": [
    "data.head(2)"
   ]
  },
  {
   "cell_type": "code",
   "execution_count": 55,
   "metadata": {},
   "outputs": [
    {
     "data": {
      "text/plain": [
       "array([ 2,  3,  8,  0, 10, 13,  4, 12,  6,  9,  1, 11, 14,  7,  5])"
      ]
     },
     "execution_count": 55,
     "metadata": {},
     "output_type": "execute_result"
    }
   ],
   "source": [
    "data['Camera_Types'].unique()"
   ]
  },
  {
   "cell_type": "code",
   "execution_count": 56,
   "metadata": {},
   "outputs": [
    {
     "data": {
      "text/plain": [
       "array([0, 1, 2], dtype=int64)"
      ]
     },
     "execution_count": 56,
     "metadata": {},
     "output_type": "execute_result"
    }
   ],
   "source": [
    "data['Battery_Types'].unique()"
   ]
  },
  {
   "cell_type": "code",
   "execution_count": 57,
   "metadata": {},
   "outputs": [
    {
     "data": {
      "text/html": [
       "<div>\n",
       "<style scoped>\n",
       "    .dataframe tbody tr th:only-of-type {\n",
       "        vertical-align: middle;\n",
       "    }\n",
       "\n",
       "    .dataframe tbody tr th {\n",
       "        vertical-align: top;\n",
       "    }\n",
       "\n",
       "    .dataframe thead th {\n",
       "        text-align: right;\n",
       "    }\n",
       "</style>\n",
       "<table border=\"1\" class=\"dataframe\">\n",
       "  <thead>\n",
       "    <tr style=\"text-align: right;\">\n",
       "      <th></th>\n",
       "      <th>Camera</th>\n",
       "      <th>Battery</th>\n",
       "      <th>Rating</th>\n",
       "      <th>Price</th>\n",
       "      <th>Mobile Brand</th>\n",
       "      <th>Mobile Color</th>\n",
       "      <th>RAM</th>\n",
       "      <th>Storage</th>\n",
       "      <th>Expandable Memory</th>\n",
       "      <th>Mobile_Display(in cm)</th>\n",
       "      <th>Mobile_Display(in inch)</th>\n",
       "      <th>Front_Camera</th>\n",
       "      <th>Battery_Types</th>\n",
       "      <th>Camera_Types</th>\n",
       "    </tr>\n",
       "  </thead>\n",
       "  <tbody>\n",
       "    <tr>\n",
       "      <th>0</th>\n",
       "      <td>13MP + 2MP</td>\n",
       "      <td>5000 mAh Battery</td>\n",
       "      <td>4.4</td>\n",
       "      <td>6999</td>\n",
       "      <td>realme C11</td>\n",
       "      <td>Rich Grey</td>\n",
       "      <td>2 GB RAM</td>\n",
       "      <td>32 GB ROM</td>\n",
       "      <td>Expandable Upto 256 GB</td>\n",
       "      <td>16.51 cm</td>\n",
       "      <td>6.5 inch</td>\n",
       "      <td>5MP Front Camera</td>\n",
       "      <td>0</td>\n",
       "      <td>2</td>\n",
       "    </tr>\n",
       "    <tr>\n",
       "      <th>1</th>\n",
       "      <td>13MP + 2MP</td>\n",
       "      <td>5000 mAh Battery</td>\n",
       "      <td>4.4</td>\n",
       "      <td>6999</td>\n",
       "      <td>realme C11</td>\n",
       "      <td>Rich Green</td>\n",
       "      <td>2 GB RAM</td>\n",
       "      <td>32 GB ROM</td>\n",
       "      <td>Expandable Upto 256 GB</td>\n",
       "      <td>16.51 cm</td>\n",
       "      <td>6.5 inch</td>\n",
       "      <td>5MP Front Camera</td>\n",
       "      <td>0</td>\n",
       "      <td>2</td>\n",
       "    </tr>\n",
       "  </tbody>\n",
       "</table>\n",
       "</div>"
      ],
      "text/plain": [
       "        Camera           Battery  Rating  Price Mobile Brand Mobile Color  \\\n",
       "0  13MP + 2MP   5000 mAh Battery     4.4   6999  realme C11     Rich Grey   \n",
       "1  13MP + 2MP   5000 mAh Battery     4.4   6999  realme C11    Rich Green   \n",
       "\n",
       "         RAM      Storage        Expandable Memory Mobile_Display(in cm)  \\\n",
       "0  2 GB RAM    32 GB ROM    Expandable Upto 256 GB             16.51 cm    \n",
       "1  2 GB RAM    32 GB ROM    Expandable Upto 256 GB             16.51 cm    \n",
       "\n",
       "  Mobile_Display(in inch)       Front_Camera  Battery_Types  Camera_Types  \n",
       "0                6.5 inch   5MP Front Camera              0             2  \n",
       "1                6.5 inch   5MP Front Camera              0             2  "
      ]
     },
     "execution_count": 57,
     "metadata": {},
     "output_type": "execute_result"
    }
   ],
   "source": [
    "data.head(2)"
   ]
  },
  {
   "cell_type": "code",
   "execution_count": 58,
   "metadata": {},
   "outputs": [],
   "source": [
    "titles_1 =[\"Mobile Brand\",\"Mobile Color\",\"Mobile_Display(in cm)\",\"Mobile_Display(in inch)\",\n",
    "           \"RAM\",\"Storage\",\"Expandable Memory\",\"Battery\",\"Battery_Types\",\"Front_Camera\",\n",
    "           \"Camera_Types\",\"Rating\",\"Price\"]"
   ]
  },
  {
   "cell_type": "code",
   "execution_count": 59,
   "metadata": {},
   "outputs": [],
   "source": [
    "# Reindexing column\n",
    "data = data.reindex(columns = titles_1)"
   ]
  },
  {
   "cell_type": "code",
   "execution_count": 60,
   "metadata": {},
   "outputs": [
    {
     "data": {
      "text/html": [
       "<div>\n",
       "<style scoped>\n",
       "    .dataframe tbody tr th:only-of-type {\n",
       "        vertical-align: middle;\n",
       "    }\n",
       "\n",
       "    .dataframe tbody tr th {\n",
       "        vertical-align: top;\n",
       "    }\n",
       "\n",
       "    .dataframe thead th {\n",
       "        text-align: right;\n",
       "    }\n",
       "</style>\n",
       "<table border=\"1\" class=\"dataframe\">\n",
       "  <thead>\n",
       "    <tr style=\"text-align: right;\">\n",
       "      <th></th>\n",
       "      <th>Mobile Brand</th>\n",
       "      <th>Mobile Color</th>\n",
       "      <th>Mobile_Display(in cm)</th>\n",
       "      <th>Mobile_Display(in inch)</th>\n",
       "      <th>RAM</th>\n",
       "      <th>Storage</th>\n",
       "      <th>Expandable Memory</th>\n",
       "      <th>Battery</th>\n",
       "      <th>Battery_Types</th>\n",
       "      <th>Front_Camera</th>\n",
       "      <th>Camera_Types</th>\n",
       "      <th>Rating</th>\n",
       "      <th>Price</th>\n",
       "    </tr>\n",
       "  </thead>\n",
       "  <tbody>\n",
       "    <tr>\n",
       "      <th>0</th>\n",
       "      <td>realme C11</td>\n",
       "      <td>Rich Grey</td>\n",
       "      <td>16.51 cm</td>\n",
       "      <td>6.5 inch</td>\n",
       "      <td>2 GB RAM</td>\n",
       "      <td>32 GB ROM</td>\n",
       "      <td>Expandable Upto 256 GB</td>\n",
       "      <td>5000 mAh Battery</td>\n",
       "      <td>0</td>\n",
       "      <td>5MP Front Camera</td>\n",
       "      <td>2</td>\n",
       "      <td>4.4</td>\n",
       "      <td>6999</td>\n",
       "    </tr>\n",
       "    <tr>\n",
       "      <th>1</th>\n",
       "      <td>realme C11</td>\n",
       "      <td>Rich Green</td>\n",
       "      <td>16.51 cm</td>\n",
       "      <td>6.5 inch</td>\n",
       "      <td>2 GB RAM</td>\n",
       "      <td>32 GB ROM</td>\n",
       "      <td>Expandable Upto 256 GB</td>\n",
       "      <td>5000 mAh Battery</td>\n",
       "      <td>0</td>\n",
       "      <td>5MP Front Camera</td>\n",
       "      <td>2</td>\n",
       "      <td>4.4</td>\n",
       "      <td>6999</td>\n",
       "    </tr>\n",
       "  </tbody>\n",
       "</table>\n",
       "</div>"
      ],
      "text/plain": [
       "  Mobile Brand Mobile Color Mobile_Display(in cm) Mobile_Display(in inch)  \\\n",
       "0  realme C11     Rich Grey             16.51 cm                 6.5 inch   \n",
       "1  realme C11    Rich Green             16.51 cm                 6.5 inch   \n",
       "\n",
       "         RAM      Storage        Expandable Memory           Battery  \\\n",
       "0  2 GB RAM    32 GB ROM    Expandable Upto 256 GB  5000 mAh Battery   \n",
       "1  2 GB RAM    32 GB ROM    Expandable Upto 256 GB  5000 mAh Battery   \n",
       "\n",
       "   Battery_Types       Front_Camera  Camera_Types  Rating  Price  \n",
       "0              0   5MP Front Camera             2     4.4   6999  \n",
       "1              0   5MP Front Camera             2     4.4   6999  "
      ]
     },
     "execution_count": 60,
     "metadata": {},
     "output_type": "execute_result"
    }
   ],
   "source": [
    "data.head(2)"
   ]
  },
  {
   "cell_type": "code",
   "execution_count": 61,
   "metadata": {},
   "outputs": [
    {
     "data": {
      "text/plain": [
       "array([' Expandable Upto 256 GB', ' Expandable Upto 512 GB', nan],\n",
       "      dtype=object)"
      ]
     },
     "execution_count": 61,
     "metadata": {},
     "output_type": "execute_result"
    }
   ],
   "source": [
    "data['Expandable Memory'].unique()"
   ]
  },
  {
   "cell_type": "code",
   "execution_count": 62,
   "metadata": {},
   "outputs": [],
   "source": [
    "# using function convert expandable memory into 0 and 1\n",
    "def expandable_memory_encoding(x):\n",
    "    if x == 'Expandable Upto 256 GB':\n",
    "        return 0\n",
    "    elif x == 'Expandable Upto 512 GB':\n",
    "        return 1\n",
    "    else:\n",
    "        return 0"
   ]
  },
  {
   "cell_type": "code",
   "execution_count": 63,
   "metadata": {},
   "outputs": [],
   "source": [
    "data['Expandable Memory']=data['Expandable Memory'].apply(expandable_memory_encoding)"
   ]
  },
  {
   "cell_type": "code",
   "execution_count": 64,
   "metadata": {},
   "outputs": [
    {
     "data": {
      "text/html": [
       "<div>\n",
       "<style scoped>\n",
       "    .dataframe tbody tr th:only-of-type {\n",
       "        vertical-align: middle;\n",
       "    }\n",
       "\n",
       "    .dataframe tbody tr th {\n",
       "        vertical-align: top;\n",
       "    }\n",
       "\n",
       "    .dataframe thead th {\n",
       "        text-align: right;\n",
       "    }\n",
       "</style>\n",
       "<table border=\"1\" class=\"dataframe\">\n",
       "  <thead>\n",
       "    <tr style=\"text-align: right;\">\n",
       "      <th></th>\n",
       "      <th>Mobile Brand</th>\n",
       "      <th>Mobile Color</th>\n",
       "      <th>Mobile_Display(in cm)</th>\n",
       "      <th>Mobile_Display(in inch)</th>\n",
       "      <th>RAM</th>\n",
       "      <th>Storage</th>\n",
       "      <th>Expandable Memory</th>\n",
       "      <th>Battery</th>\n",
       "      <th>Battery_Types</th>\n",
       "      <th>Front_Camera</th>\n",
       "      <th>Camera_Types</th>\n",
       "      <th>Rating</th>\n",
       "      <th>Price</th>\n",
       "    </tr>\n",
       "  </thead>\n",
       "  <tbody>\n",
       "    <tr>\n",
       "      <th>0</th>\n",
       "      <td>realme C11</td>\n",
       "      <td>Rich Grey</td>\n",
       "      <td>16.51 cm</td>\n",
       "      <td>6.5 inch</td>\n",
       "      <td>2 GB RAM</td>\n",
       "      <td>32 GB ROM</td>\n",
       "      <td>0</td>\n",
       "      <td>5000 mAh Battery</td>\n",
       "      <td>0</td>\n",
       "      <td>5MP Front Camera</td>\n",
       "      <td>2</td>\n",
       "      <td>4.4</td>\n",
       "      <td>6999</td>\n",
       "    </tr>\n",
       "    <tr>\n",
       "      <th>1</th>\n",
       "      <td>realme C11</td>\n",
       "      <td>Rich Green</td>\n",
       "      <td>16.51 cm</td>\n",
       "      <td>6.5 inch</td>\n",
       "      <td>2 GB RAM</td>\n",
       "      <td>32 GB ROM</td>\n",
       "      <td>0</td>\n",
       "      <td>5000 mAh Battery</td>\n",
       "      <td>0</td>\n",
       "      <td>5MP Front Camera</td>\n",
       "      <td>2</td>\n",
       "      <td>4.4</td>\n",
       "      <td>6999</td>\n",
       "    </tr>\n",
       "  </tbody>\n",
       "</table>\n",
       "</div>"
      ],
      "text/plain": [
       "  Mobile Brand Mobile Color Mobile_Display(in cm) Mobile_Display(in inch)  \\\n",
       "0  realme C11     Rich Grey             16.51 cm                 6.5 inch   \n",
       "1  realme C11    Rich Green             16.51 cm                 6.5 inch   \n",
       "\n",
       "         RAM      Storage  Expandable Memory           Battery  Battery_Types  \\\n",
       "0  2 GB RAM    32 GB ROM                   0  5000 mAh Battery              0   \n",
       "1  2 GB RAM    32 GB ROM                   0  5000 mAh Battery              0   \n",
       "\n",
       "        Front_Camera  Camera_Types  Rating  Price  \n",
       "0   5MP Front Camera             2     4.4   6999  \n",
       "1   5MP Front Camera             2     4.4   6999  "
      ]
     },
     "execution_count": 64,
     "metadata": {},
     "output_type": "execute_result"
    }
   ],
   "source": [
    "data.head(2)"
   ]
  },
  {
   "cell_type": "code",
   "execution_count": 65,
   "metadata": {},
   "outputs": [
    {
     "data": {
      "text/plain": [
       "array(['5000 mAh Battery', '5000 mAh Li-ion Polymer Battery',\n",
       "       '5020 mAh Battery', '4500 mAh Battery',\n",
       "       '5000 mAh Lithium Polymer Battery',\n",
       "       '6000 mAh Lithium-ion Polymer Battery',\n",
       "       '6000 mAh Lithium-ion Battery', '6000 mAh Battery',\n",
       "       '5000 mAh Lithium-ion Polymer Battery',\n",
       "       '5200 mAh Li-ion Polymer Battery', '5000 mAh Lithium-ion Battery',\n",
       "       '6000 mAh Li-ion Polymer Battery'], dtype=object)"
      ]
     },
     "execution_count": 65,
     "metadata": {},
     "output_type": "execute_result"
    }
   ],
   "source": [
    "data['Battery'].unique()"
   ]
  },
  {
   "cell_type": "code",
   "execution_count": 66,
   "metadata": {},
   "outputs": [],
   "source": [
    "data['Battery']=data['Battery'].str.split(\" m\").str.get(0)"
   ]
  },
  {
   "cell_type": "code",
   "execution_count": 67,
   "metadata": {},
   "outputs": [
    {
     "data": {
      "text/plain": [
       "array(['5000', '5020', '4500', '6000', '5200'], dtype=object)"
      ]
     },
     "execution_count": 67,
     "metadata": {},
     "output_type": "execute_result"
    }
   ],
   "source": [
    "data['Battery'].unique()"
   ]
  },
  {
   "cell_type": "code",
   "execution_count": 68,
   "metadata": {},
   "outputs": [],
   "source": [
    "# using function convert into 0 to 4, this is ordinal variable so we will make it into ascending order.\n",
    "def battery_encoding(x):\n",
    "    if x == '4500':\n",
    "        return 0\n",
    "    elif x == '5000':\n",
    "        return 1\n",
    "    elif x == '5020':\n",
    "        return 2\n",
    "    elif x == '5200':\n",
    "        return 3\n",
    "    elif x == '6000':\n",
    "        return 4"
   ]
  },
  {
   "cell_type": "code",
   "execution_count": 69,
   "metadata": {},
   "outputs": [],
   "source": [
    "data['Battery']=data['Battery'].apply(battery_encoding)"
   ]
  },
  {
   "cell_type": "code",
   "execution_count": 70,
   "metadata": {},
   "outputs": [],
   "source": [
    "data['Front_Camera']=data['Front_Camera'].str.split(\" \").str.get(1)"
   ]
  },
  {
   "cell_type": "code",
   "execution_count": 71,
   "metadata": {},
   "outputs": [
    {
     "data": {
      "text/plain": [
       "array(['5MP', '8MP', '16MP', '20MP'], dtype=object)"
      ]
     },
     "execution_count": 71,
     "metadata": {},
     "output_type": "execute_result"
    }
   ],
   "source": [
    "data['Front_Camera'].unique()"
   ]
  },
  {
   "cell_type": "code",
   "execution_count": 72,
   "metadata": {},
   "outputs": [],
   "source": [
    "# front camera is the ordinal variable. so using function we will convert it into 0 to 3 in ascending order\n",
    "def front_camera_encoding(x):\n",
    "    if x == '5MP':\n",
    "        return 0\n",
    "    elif x == '8MP':\n",
    "        return 1\n",
    "    elif x == '16MP':\n",
    "        return 2\n",
    "    elif x == '20MP':\n",
    "        return 3"
   ]
  },
  {
   "cell_type": "code",
   "execution_count": 73,
   "metadata": {},
   "outputs": [],
   "source": [
    "data['Front_Camera'] = data['Front_Camera'].apply(front_camera_encoding)"
   ]
  },
  {
   "cell_type": "code",
   "execution_count": 74,
   "metadata": {},
   "outputs": [
    {
     "data": {
      "text/html": [
       "<div>\n",
       "<style scoped>\n",
       "    .dataframe tbody tr th:only-of-type {\n",
       "        vertical-align: middle;\n",
       "    }\n",
       "\n",
       "    .dataframe tbody tr th {\n",
       "        vertical-align: top;\n",
       "    }\n",
       "\n",
       "    .dataframe thead th {\n",
       "        text-align: right;\n",
       "    }\n",
       "</style>\n",
       "<table border=\"1\" class=\"dataframe\">\n",
       "  <thead>\n",
       "    <tr style=\"text-align: right;\">\n",
       "      <th></th>\n",
       "      <th>Mobile Brand</th>\n",
       "      <th>Mobile Color</th>\n",
       "      <th>Mobile_Display(in cm)</th>\n",
       "      <th>Mobile_Display(in inch)</th>\n",
       "      <th>RAM</th>\n",
       "      <th>Storage</th>\n",
       "      <th>Expandable Memory</th>\n",
       "      <th>Battery</th>\n",
       "      <th>Battery_Types</th>\n",
       "      <th>Front_Camera</th>\n",
       "      <th>Camera_Types</th>\n",
       "      <th>Rating</th>\n",
       "      <th>Price</th>\n",
       "    </tr>\n",
       "  </thead>\n",
       "  <tbody>\n",
       "    <tr>\n",
       "      <th>0</th>\n",
       "      <td>realme C11</td>\n",
       "      <td>Rich Grey</td>\n",
       "      <td>16.51 cm</td>\n",
       "      <td>6.5 inch</td>\n",
       "      <td>2 GB RAM</td>\n",
       "      <td>32 GB ROM</td>\n",
       "      <td>0</td>\n",
       "      <td>1</td>\n",
       "      <td>0</td>\n",
       "      <td>0</td>\n",
       "      <td>2</td>\n",
       "      <td>4.4</td>\n",
       "      <td>6999</td>\n",
       "    </tr>\n",
       "    <tr>\n",
       "      <th>1</th>\n",
       "      <td>realme C11</td>\n",
       "      <td>Rich Green</td>\n",
       "      <td>16.51 cm</td>\n",
       "      <td>6.5 inch</td>\n",
       "      <td>2 GB RAM</td>\n",
       "      <td>32 GB ROM</td>\n",
       "      <td>0</td>\n",
       "      <td>1</td>\n",
       "      <td>0</td>\n",
       "      <td>0</td>\n",
       "      <td>2</td>\n",
       "      <td>4.4</td>\n",
       "      <td>6999</td>\n",
       "    </tr>\n",
       "  </tbody>\n",
       "</table>\n",
       "</div>"
      ],
      "text/plain": [
       "  Mobile Brand Mobile Color Mobile_Display(in cm) Mobile_Display(in inch)  \\\n",
       "0  realme C11     Rich Grey             16.51 cm                 6.5 inch   \n",
       "1  realme C11    Rich Green             16.51 cm                 6.5 inch   \n",
       "\n",
       "         RAM      Storage  Expandable Memory  Battery  Battery_Types  \\\n",
       "0  2 GB RAM    32 GB ROM                   0        1              0   \n",
       "1  2 GB RAM    32 GB ROM                   0        1              0   \n",
       "\n",
       "   Front_Camera  Camera_Types  Rating  Price  \n",
       "0             0             2     4.4   6999  \n",
       "1             0             2     4.4   6999  "
      ]
     },
     "execution_count": 74,
     "metadata": {},
     "output_type": "execute_result"
    }
   ],
   "source": [
    "data.head(2)"
   ]
  },
  {
   "cell_type": "code",
   "execution_count": 75,
   "metadata": {},
   "outputs": [
    {
     "name": "stdout",
     "output_type": "stream",
     "text": [
      "<class 'pandas.core.frame.DataFrame'>\n",
      "Int64Index: 1340 entries, 0 to 1339\n",
      "Data columns (total 13 columns):\n",
      " #   Column                   Non-Null Count  Dtype  \n",
      "---  ------                   --------------  -----  \n",
      " 0   Mobile Brand             1340 non-null   object \n",
      " 1   Mobile Color             1340 non-null   object \n",
      " 2   Mobile_Display(in cm)    1340 non-null   object \n",
      " 3   Mobile_Display(in inch)  1135 non-null   object \n",
      " 4   RAM                      1340 non-null   object \n",
      " 5   Storage                  1340 non-null   object \n",
      " 6   Expandable Memory        1340 non-null   int64  \n",
      " 7   Battery                  1340 non-null   int64  \n",
      " 8   Battery_Types            1340 non-null   int64  \n",
      " 9   Front_Camera             1340 non-null   int64  \n",
      " 10  Camera_Types             1340 non-null   int32  \n",
      " 11  Rating                   1340 non-null   float64\n",
      " 12  Price                    1340 non-null   int64  \n",
      "dtypes: float64(1), int32(1), int64(5), object(6)\n",
      "memory usage: 141.3+ KB\n"
     ]
    }
   ],
   "source": [
    "data.info()"
   ]
  },
  {
   "cell_type": "code",
   "execution_count": 76,
   "metadata": {},
   "outputs": [],
   "source": [
    "data['Storage']=data['Storage'].str.split(\" \").str.get(1)"
   ]
  },
  {
   "cell_type": "code",
   "execution_count": 77,
   "metadata": {},
   "outputs": [
    {
     "data": {
      "text/html": [
       "<div>\n",
       "<style scoped>\n",
       "    .dataframe tbody tr th:only-of-type {\n",
       "        vertical-align: middle;\n",
       "    }\n",
       "\n",
       "    .dataframe tbody tr th {\n",
       "        vertical-align: top;\n",
       "    }\n",
       "\n",
       "    .dataframe thead th {\n",
       "        text-align: right;\n",
       "    }\n",
       "</style>\n",
       "<table border=\"1\" class=\"dataframe\">\n",
       "  <thead>\n",
       "    <tr style=\"text-align: right;\">\n",
       "      <th></th>\n",
       "      <th>Mobile Brand</th>\n",
       "      <th>Mobile Color</th>\n",
       "      <th>Mobile_Display(in cm)</th>\n",
       "      <th>Mobile_Display(in inch)</th>\n",
       "      <th>RAM</th>\n",
       "      <th>Storage</th>\n",
       "      <th>Expandable Memory</th>\n",
       "      <th>Battery</th>\n",
       "      <th>Battery_Types</th>\n",
       "      <th>Front_Camera</th>\n",
       "      <th>Camera_Types</th>\n",
       "      <th>Rating</th>\n",
       "      <th>Price</th>\n",
       "    </tr>\n",
       "  </thead>\n",
       "  <tbody>\n",
       "    <tr>\n",
       "      <th>0</th>\n",
       "      <td>realme C11</td>\n",
       "      <td>Rich Grey</td>\n",
       "      <td>16.51 cm</td>\n",
       "      <td>6.5 inch</td>\n",
       "      <td>2 GB RAM</td>\n",
       "      <td>32</td>\n",
       "      <td>0</td>\n",
       "      <td>1</td>\n",
       "      <td>0</td>\n",
       "      <td>0</td>\n",
       "      <td>2</td>\n",
       "      <td>4.4</td>\n",
       "      <td>6999</td>\n",
       "    </tr>\n",
       "    <tr>\n",
       "      <th>1</th>\n",
       "      <td>realme C11</td>\n",
       "      <td>Rich Green</td>\n",
       "      <td>16.51 cm</td>\n",
       "      <td>6.5 inch</td>\n",
       "      <td>2 GB RAM</td>\n",
       "      <td>32</td>\n",
       "      <td>0</td>\n",
       "      <td>1</td>\n",
       "      <td>0</td>\n",
       "      <td>0</td>\n",
       "      <td>2</td>\n",
       "      <td>4.4</td>\n",
       "      <td>6999</td>\n",
       "    </tr>\n",
       "  </tbody>\n",
       "</table>\n",
       "</div>"
      ],
      "text/plain": [
       "  Mobile Brand Mobile Color Mobile_Display(in cm) Mobile_Display(in inch)  \\\n",
       "0  realme C11     Rich Grey             16.51 cm                 6.5 inch   \n",
       "1  realme C11    Rich Green             16.51 cm                 6.5 inch   \n",
       "\n",
       "         RAM Storage  Expandable Memory  Battery  Battery_Types  Front_Camera  \\\n",
       "0  2 GB RAM       32                  0        1              0             0   \n",
       "1  2 GB RAM       32                  0        1              0             0   \n",
       "\n",
       "   Camera_Types  Rating  Price  \n",
       "0             2     4.4   6999  \n",
       "1             2     4.4   6999  "
      ]
     },
     "execution_count": 77,
     "metadata": {},
     "output_type": "execute_result"
    }
   ],
   "source": [
    "data.head(2)"
   ]
  },
  {
   "cell_type": "code",
   "execution_count": 78,
   "metadata": {},
   "outputs": [
    {
     "data": {
      "text/plain": [
       "array(['32', '64', '128'], dtype=object)"
      ]
     },
     "execution_count": 78,
     "metadata": {},
     "output_type": "execute_result"
    }
   ],
   "source": [
    "data['Storage'].unique()"
   ]
  },
  {
   "cell_type": "code",
   "execution_count": 79,
   "metadata": {},
   "outputs": [],
   "source": [
    "# storage is the ordinal variable. we will convert it into 0 to 2 in ascending order\n",
    "def storage_encoding(x):\n",
    "    if x == '32':\n",
    "        return 0\n",
    "    elif x == '64':\n",
    "        return 1\n",
    "    elif x == '128':\n",
    "        return 2"
   ]
  },
  {
   "cell_type": "code",
   "execution_count": 80,
   "metadata": {},
   "outputs": [],
   "source": [
    "data['Storage'] = data['Storage'].apply(storage_encoding)"
   ]
  },
  {
   "cell_type": "code",
   "execution_count": 81,
   "metadata": {},
   "outputs": [
    {
     "data": {
      "text/html": [
       "<div>\n",
       "<style scoped>\n",
       "    .dataframe tbody tr th:only-of-type {\n",
       "        vertical-align: middle;\n",
       "    }\n",
       "\n",
       "    .dataframe tbody tr th {\n",
       "        vertical-align: top;\n",
       "    }\n",
       "\n",
       "    .dataframe thead th {\n",
       "        text-align: right;\n",
       "    }\n",
       "</style>\n",
       "<table border=\"1\" class=\"dataframe\">\n",
       "  <thead>\n",
       "    <tr style=\"text-align: right;\">\n",
       "      <th></th>\n",
       "      <th>Mobile Brand</th>\n",
       "      <th>Mobile Color</th>\n",
       "      <th>Mobile_Display(in cm)</th>\n",
       "      <th>Mobile_Display(in inch)</th>\n",
       "      <th>RAM</th>\n",
       "      <th>Storage</th>\n",
       "      <th>Expandable Memory</th>\n",
       "      <th>Battery</th>\n",
       "      <th>Battery_Types</th>\n",
       "      <th>Front_Camera</th>\n",
       "      <th>Camera_Types</th>\n",
       "      <th>Rating</th>\n",
       "      <th>Price</th>\n",
       "    </tr>\n",
       "  </thead>\n",
       "  <tbody>\n",
       "    <tr>\n",
       "      <th>0</th>\n",
       "      <td>realme C11</td>\n",
       "      <td>Rich Grey</td>\n",
       "      <td>16.51 cm</td>\n",
       "      <td>6.5 inch</td>\n",
       "      <td>2 GB RAM</td>\n",
       "      <td>0</td>\n",
       "      <td>0</td>\n",
       "      <td>1</td>\n",
       "      <td>0</td>\n",
       "      <td>0</td>\n",
       "      <td>2</td>\n",
       "      <td>4.4</td>\n",
       "      <td>6999</td>\n",
       "    </tr>\n",
       "    <tr>\n",
       "      <th>1</th>\n",
       "      <td>realme C11</td>\n",
       "      <td>Rich Green</td>\n",
       "      <td>16.51 cm</td>\n",
       "      <td>6.5 inch</td>\n",
       "      <td>2 GB RAM</td>\n",
       "      <td>0</td>\n",
       "      <td>0</td>\n",
       "      <td>1</td>\n",
       "      <td>0</td>\n",
       "      <td>0</td>\n",
       "      <td>2</td>\n",
       "      <td>4.4</td>\n",
       "      <td>6999</td>\n",
       "    </tr>\n",
       "  </tbody>\n",
       "</table>\n",
       "</div>"
      ],
      "text/plain": [
       "  Mobile Brand Mobile Color Mobile_Display(in cm) Mobile_Display(in inch)  \\\n",
       "0  realme C11     Rich Grey             16.51 cm                 6.5 inch   \n",
       "1  realme C11    Rich Green             16.51 cm                 6.5 inch   \n",
       "\n",
       "         RAM  Storage  Expandable Memory  Battery  Battery_Types  \\\n",
       "0  2 GB RAM         0                  0        1              0   \n",
       "1  2 GB RAM         0                  0        1              0   \n",
       "\n",
       "   Front_Camera  Camera_Types  Rating  Price  \n",
       "0             0             2     4.4   6999  \n",
       "1             0             2     4.4   6999  "
      ]
     },
     "execution_count": 81,
     "metadata": {},
     "output_type": "execute_result"
    }
   ],
   "source": [
    "data.head(2)"
   ]
  },
  {
   "cell_type": "code",
   "execution_count": 82,
   "metadata": {},
   "outputs": [
    {
     "data": {
      "text/plain": [
       "array([0, 1, 2], dtype=int64)"
      ]
     },
     "execution_count": 82,
     "metadata": {},
     "output_type": "execute_result"
    }
   ],
   "source": [
    "data['Storage'].unique()"
   ]
  },
  {
   "cell_type": "code",
   "execution_count": 83,
   "metadata": {},
   "outputs": [],
   "source": [
    "data['RAM']=data['RAM'].str.split(\" \").str.get(0)"
   ]
  },
  {
   "cell_type": "code",
   "execution_count": 84,
   "metadata": {},
   "outputs": [
    {
     "data": {
      "text/html": [
       "<div>\n",
       "<style scoped>\n",
       "    .dataframe tbody tr th:only-of-type {\n",
       "        vertical-align: middle;\n",
       "    }\n",
       "\n",
       "    .dataframe tbody tr th {\n",
       "        vertical-align: top;\n",
       "    }\n",
       "\n",
       "    .dataframe thead th {\n",
       "        text-align: right;\n",
       "    }\n",
       "</style>\n",
       "<table border=\"1\" class=\"dataframe\">\n",
       "  <thead>\n",
       "    <tr style=\"text-align: right;\">\n",
       "      <th></th>\n",
       "      <th>Mobile Brand</th>\n",
       "      <th>Mobile Color</th>\n",
       "      <th>Mobile_Display(in cm)</th>\n",
       "      <th>Mobile_Display(in inch)</th>\n",
       "      <th>RAM</th>\n",
       "      <th>Storage</th>\n",
       "      <th>Expandable Memory</th>\n",
       "      <th>Battery</th>\n",
       "      <th>Battery_Types</th>\n",
       "      <th>Front_Camera</th>\n",
       "      <th>Camera_Types</th>\n",
       "      <th>Rating</th>\n",
       "      <th>Price</th>\n",
       "    </tr>\n",
       "  </thead>\n",
       "  <tbody>\n",
       "    <tr>\n",
       "      <th>0</th>\n",
       "      <td>realme C11</td>\n",
       "      <td>Rich Grey</td>\n",
       "      <td>16.51 cm</td>\n",
       "      <td>6.5 inch</td>\n",
       "      <td>2</td>\n",
       "      <td>0</td>\n",
       "      <td>0</td>\n",
       "      <td>1</td>\n",
       "      <td>0</td>\n",
       "      <td>0</td>\n",
       "      <td>2</td>\n",
       "      <td>4.4</td>\n",
       "      <td>6999</td>\n",
       "    </tr>\n",
       "    <tr>\n",
       "      <th>1</th>\n",
       "      <td>realme C11</td>\n",
       "      <td>Rich Green</td>\n",
       "      <td>16.51 cm</td>\n",
       "      <td>6.5 inch</td>\n",
       "      <td>2</td>\n",
       "      <td>0</td>\n",
       "      <td>0</td>\n",
       "      <td>1</td>\n",
       "      <td>0</td>\n",
       "      <td>0</td>\n",
       "      <td>2</td>\n",
       "      <td>4.4</td>\n",
       "      <td>6999</td>\n",
       "    </tr>\n",
       "  </tbody>\n",
       "</table>\n",
       "</div>"
      ],
      "text/plain": [
       "  Mobile Brand Mobile Color Mobile_Display(in cm) Mobile_Display(in inch) RAM  \\\n",
       "0  realme C11     Rich Grey             16.51 cm                 6.5 inch   2   \n",
       "1  realme C11    Rich Green             16.51 cm                 6.5 inch   2   \n",
       "\n",
       "   Storage  Expandable Memory  Battery  Battery_Types  Front_Camera  \\\n",
       "0        0                  0        1              0             0   \n",
       "1        0                  0        1              0             0   \n",
       "\n",
       "   Camera_Types  Rating  Price  \n",
       "0             2     4.4   6999  \n",
       "1             2     4.4   6999  "
      ]
     },
     "execution_count": 84,
     "metadata": {},
     "output_type": "execute_result"
    }
   ],
   "source": [
    "data.head(2)"
   ]
  },
  {
   "cell_type": "code",
   "execution_count": 85,
   "metadata": {},
   "outputs": [
    {
     "data": {
      "text/plain": [
       "array(['2', '4', '6', '8', '3'], dtype=object)"
      ]
     },
     "execution_count": 85,
     "metadata": {},
     "output_type": "execute_result"
    }
   ],
   "source": [
    "data['RAM'].unique()"
   ]
  },
  {
   "cell_type": "code",
   "execution_count": 86,
   "metadata": {},
   "outputs": [],
   "source": [
    "# ram is the ordinal variable. we will convert it into 0 to 4 in ascending order\n",
    "def ram_encoding(x):\n",
    "    if x == '2':\n",
    "        return 0\n",
    "    elif x == '3':\n",
    "        return 1\n",
    "    elif x == '4':\n",
    "        return 2\n",
    "    elif x == '6':\n",
    "        return 3\n",
    "    elif x == '8':\n",
    "        return 4"
   ]
  },
  {
   "cell_type": "code",
   "execution_count": 87,
   "metadata": {},
   "outputs": [],
   "source": [
    "data['RAM'] = data['RAM'].apply(ram_encoding)"
   ]
  },
  {
   "cell_type": "code",
   "execution_count": 88,
   "metadata": {},
   "outputs": [
    {
     "data": {
      "text/plain": [
       "array([0, 2, 3, 4, 1], dtype=int64)"
      ]
     },
     "execution_count": 88,
     "metadata": {},
     "output_type": "execute_result"
    }
   ],
   "source": [
    "data['RAM'].unique()"
   ]
  },
  {
   "cell_type": "code",
   "execution_count": 89,
   "metadata": {},
   "outputs": [
    {
     "data": {
      "text/html": [
       "<div>\n",
       "<style scoped>\n",
       "    .dataframe tbody tr th:only-of-type {\n",
       "        vertical-align: middle;\n",
       "    }\n",
       "\n",
       "    .dataframe tbody tr th {\n",
       "        vertical-align: top;\n",
       "    }\n",
       "\n",
       "    .dataframe thead th {\n",
       "        text-align: right;\n",
       "    }\n",
       "</style>\n",
       "<table border=\"1\" class=\"dataframe\">\n",
       "  <thead>\n",
       "    <tr style=\"text-align: right;\">\n",
       "      <th></th>\n",
       "      <th>Mobile Brand</th>\n",
       "      <th>Mobile Color</th>\n",
       "      <th>Mobile_Display(in cm)</th>\n",
       "      <th>Mobile_Display(in inch)</th>\n",
       "      <th>RAM</th>\n",
       "      <th>Storage</th>\n",
       "      <th>Expandable Memory</th>\n",
       "      <th>Battery</th>\n",
       "      <th>Battery_Types</th>\n",
       "      <th>Front_Camera</th>\n",
       "      <th>Camera_Types</th>\n",
       "      <th>Rating</th>\n",
       "      <th>Price</th>\n",
       "    </tr>\n",
       "  </thead>\n",
       "  <tbody>\n",
       "    <tr>\n",
       "      <th>0</th>\n",
       "      <td>realme C11</td>\n",
       "      <td>Rich Grey</td>\n",
       "      <td>16.51 cm</td>\n",
       "      <td>6.5 inch</td>\n",
       "      <td>0</td>\n",
       "      <td>0</td>\n",
       "      <td>0</td>\n",
       "      <td>1</td>\n",
       "      <td>0</td>\n",
       "      <td>0</td>\n",
       "      <td>2</td>\n",
       "      <td>4.4</td>\n",
       "      <td>6999</td>\n",
       "    </tr>\n",
       "    <tr>\n",
       "      <th>1</th>\n",
       "      <td>realme C11</td>\n",
       "      <td>Rich Green</td>\n",
       "      <td>16.51 cm</td>\n",
       "      <td>6.5 inch</td>\n",
       "      <td>0</td>\n",
       "      <td>0</td>\n",
       "      <td>0</td>\n",
       "      <td>1</td>\n",
       "      <td>0</td>\n",
       "      <td>0</td>\n",
       "      <td>2</td>\n",
       "      <td>4.4</td>\n",
       "      <td>6999</td>\n",
       "    </tr>\n",
       "    <tr>\n",
       "      <th>2</th>\n",
       "      <td>POCO C3</td>\n",
       "      <td>Arctic Blue</td>\n",
       "      <td>16.59 cm</td>\n",
       "      <td>6.53 inch</td>\n",
       "      <td>2</td>\n",
       "      <td>1</td>\n",
       "      <td>0</td>\n",
       "      <td>1</td>\n",
       "      <td>1</td>\n",
       "      <td>0</td>\n",
       "      <td>3</td>\n",
       "      <td>4.3</td>\n",
       "      <td>7999</td>\n",
       "    </tr>\n",
       "    <tr>\n",
       "      <th>3</th>\n",
       "      <td>Redmi 9 Prime</td>\n",
       "      <td>Space Blue</td>\n",
       "      <td>16.59 cm</td>\n",
       "      <td>6.53 inch</td>\n",
       "      <td>2</td>\n",
       "      <td>1</td>\n",
       "      <td>0</td>\n",
       "      <td>2</td>\n",
       "      <td>0</td>\n",
       "      <td>1</td>\n",
       "      <td>8</td>\n",
       "      <td>4.4</td>\n",
       "      <td>9499</td>\n",
       "    </tr>\n",
       "    <tr>\n",
       "      <th>4</th>\n",
       "      <td>realme 8 Pro</td>\n",
       "      <td>Infinite Blue</td>\n",
       "      <td>16.26 cm</td>\n",
       "      <td>6.4 inch</td>\n",
       "      <td>3</td>\n",
       "      <td>2</td>\n",
       "      <td>0</td>\n",
       "      <td>0</td>\n",
       "      <td>0</td>\n",
       "      <td>2</td>\n",
       "      <td>0</td>\n",
       "      <td>4.5</td>\n",
       "      <td>17999</td>\n",
       "    </tr>\n",
       "  </tbody>\n",
       "</table>\n",
       "</div>"
      ],
      "text/plain": [
       "     Mobile Brand   Mobile Color Mobile_Display(in cm)  \\\n",
       "0     realme C11       Rich Grey             16.51 cm    \n",
       "1     realme C11      Rich Green             16.51 cm    \n",
       "2        POCO C3     Arctic Blue             16.59 cm    \n",
       "3  Redmi 9 Prime      Space Blue             16.59 cm    \n",
       "4   realme 8 Pro   Infinite Blue             16.26 cm    \n",
       "\n",
       "  Mobile_Display(in inch)  RAM  Storage  Expandable Memory  Battery  \\\n",
       "0                6.5 inch    0        0                  0        1   \n",
       "1                6.5 inch    0        0                  0        1   \n",
       "2               6.53 inch    2        1                  0        1   \n",
       "3               6.53 inch    2        1                  0        2   \n",
       "4                6.4 inch    3        2                  0        0   \n",
       "\n",
       "   Battery_Types  Front_Camera  Camera_Types  Rating  Price  \n",
       "0              0             0             2     4.4   6999  \n",
       "1              0             0             2     4.4   6999  \n",
       "2              1             0             3     4.3   7999  \n",
       "3              0             1             8     4.4   9499  \n",
       "4              0             2             0     4.5  17999  "
      ]
     },
     "execution_count": 89,
     "metadata": {},
     "output_type": "execute_result"
    }
   ],
   "source": [
    "data.head(5)"
   ]
  },
  {
   "cell_type": "code",
   "execution_count": 90,
   "metadata": {},
   "outputs": [],
   "source": [
    "data['Mobile_Display(in cm)']=data['Mobile_Display(in cm)'].str.split(' ').str.get(0)"
   ]
  },
  {
   "cell_type": "code",
   "execution_count": 91,
   "metadata": {},
   "outputs": [
    {
     "data": {
      "text/plain": [
       "array(['16.51', '16.59', '16.26', 'Super', '16.94', '16.56', '16.54',\n",
       "       '15.49', '17.22', '17.32', '90'], dtype=object)"
      ]
     },
     "execution_count": 91,
     "metadata": {},
     "output_type": "execute_result"
    }
   ],
   "source": [
    "data['Mobile_Display(in cm)'].unique()"
   ]
  },
  {
   "cell_type": "code",
   "execution_count": 92,
   "metadata": {},
   "outputs": [],
   "source": [
    "# mobile display in cm is ordinal variable. we will convert it into 0 to 9 in ascending order\n",
    "def mobile_display_1_encoding(x):\n",
    "    if x == '15.49':\n",
    "        return 0\n",
    "    elif x == '16.26':\n",
    "        return 1\n",
    "    elif x == '16.51':\n",
    "        return 2\n",
    "    elif x == '16.54':\n",
    "        return 3\n",
    "    elif x == '16.56':\n",
    "        return 4\n",
    "    elif x == '16.59':\n",
    "        return 5\n",
    "    elif x == '16.94':\n",
    "        return 6\n",
    "    elif x == '17.22':\n",
    "        return 7\n",
    "    elif x == '17.32':\n",
    "        return 8\n",
    "    else:\n",
    "        return 9"
   ]
  },
  {
   "cell_type": "code",
   "execution_count": 93,
   "metadata": {},
   "outputs": [],
   "source": [
    "data['Mobile_Display(in cm)']=data['Mobile_Display(in cm)'].apply(mobile_display_1_encoding)"
   ]
  },
  {
   "cell_type": "code",
   "execution_count": 94,
   "metadata": {},
   "outputs": [
    {
     "data": {
      "text/html": [
       "<div>\n",
       "<style scoped>\n",
       "    .dataframe tbody tr th:only-of-type {\n",
       "        vertical-align: middle;\n",
       "    }\n",
       "\n",
       "    .dataframe tbody tr th {\n",
       "        vertical-align: top;\n",
       "    }\n",
       "\n",
       "    .dataframe thead th {\n",
       "        text-align: right;\n",
       "    }\n",
       "</style>\n",
       "<table border=\"1\" class=\"dataframe\">\n",
       "  <thead>\n",
       "    <tr style=\"text-align: right;\">\n",
       "      <th></th>\n",
       "      <th>Mobile Brand</th>\n",
       "      <th>Mobile Color</th>\n",
       "      <th>Mobile_Display(in cm)</th>\n",
       "      <th>Mobile_Display(in inch)</th>\n",
       "      <th>RAM</th>\n",
       "      <th>Storage</th>\n",
       "      <th>Expandable Memory</th>\n",
       "      <th>Battery</th>\n",
       "      <th>Battery_Types</th>\n",
       "      <th>Front_Camera</th>\n",
       "      <th>Camera_Types</th>\n",
       "      <th>Rating</th>\n",
       "      <th>Price</th>\n",
       "    </tr>\n",
       "  </thead>\n",
       "  <tbody>\n",
       "    <tr>\n",
       "      <th>0</th>\n",
       "      <td>realme C11</td>\n",
       "      <td>Rich Grey</td>\n",
       "      <td>2</td>\n",
       "      <td>6.5 inch</td>\n",
       "      <td>0</td>\n",
       "      <td>0</td>\n",
       "      <td>0</td>\n",
       "      <td>1</td>\n",
       "      <td>0</td>\n",
       "      <td>0</td>\n",
       "      <td>2</td>\n",
       "      <td>4.4</td>\n",
       "      <td>6999</td>\n",
       "    </tr>\n",
       "    <tr>\n",
       "      <th>1</th>\n",
       "      <td>realme C11</td>\n",
       "      <td>Rich Green</td>\n",
       "      <td>2</td>\n",
       "      <td>6.5 inch</td>\n",
       "      <td>0</td>\n",
       "      <td>0</td>\n",
       "      <td>0</td>\n",
       "      <td>1</td>\n",
       "      <td>0</td>\n",
       "      <td>0</td>\n",
       "      <td>2</td>\n",
       "      <td>4.4</td>\n",
       "      <td>6999</td>\n",
       "    </tr>\n",
       "    <tr>\n",
       "      <th>2</th>\n",
       "      <td>POCO C3</td>\n",
       "      <td>Arctic Blue</td>\n",
       "      <td>5</td>\n",
       "      <td>6.53 inch</td>\n",
       "      <td>2</td>\n",
       "      <td>1</td>\n",
       "      <td>0</td>\n",
       "      <td>1</td>\n",
       "      <td>1</td>\n",
       "      <td>0</td>\n",
       "      <td>3</td>\n",
       "      <td>4.3</td>\n",
       "      <td>7999</td>\n",
       "    </tr>\n",
       "    <tr>\n",
       "      <th>3</th>\n",
       "      <td>Redmi 9 Prime</td>\n",
       "      <td>Space Blue</td>\n",
       "      <td>5</td>\n",
       "      <td>6.53 inch</td>\n",
       "      <td>2</td>\n",
       "      <td>1</td>\n",
       "      <td>0</td>\n",
       "      <td>2</td>\n",
       "      <td>0</td>\n",
       "      <td>1</td>\n",
       "      <td>8</td>\n",
       "      <td>4.4</td>\n",
       "      <td>9499</td>\n",
       "    </tr>\n",
       "    <tr>\n",
       "      <th>4</th>\n",
       "      <td>realme 8 Pro</td>\n",
       "      <td>Infinite Blue</td>\n",
       "      <td>1</td>\n",
       "      <td>6.4 inch</td>\n",
       "      <td>3</td>\n",
       "      <td>2</td>\n",
       "      <td>0</td>\n",
       "      <td>0</td>\n",
       "      <td>0</td>\n",
       "      <td>2</td>\n",
       "      <td>0</td>\n",
       "      <td>4.5</td>\n",
       "      <td>17999</td>\n",
       "    </tr>\n",
       "  </tbody>\n",
       "</table>\n",
       "</div>"
      ],
      "text/plain": [
       "     Mobile Brand   Mobile Color  Mobile_Display(in cm)  \\\n",
       "0     realme C11       Rich Grey                      2   \n",
       "1     realme C11      Rich Green                      2   \n",
       "2        POCO C3     Arctic Blue                      5   \n",
       "3  Redmi 9 Prime      Space Blue                      5   \n",
       "4   realme 8 Pro   Infinite Blue                      1   \n",
       "\n",
       "  Mobile_Display(in inch)  RAM  Storage  Expandable Memory  Battery  \\\n",
       "0                6.5 inch    0        0                  0        1   \n",
       "1                6.5 inch    0        0                  0        1   \n",
       "2               6.53 inch    2        1                  0        1   \n",
       "3               6.53 inch    2        1                  0        2   \n",
       "4                6.4 inch    3        2                  0        0   \n",
       "\n",
       "   Battery_Types  Front_Camera  Camera_Types  Rating  Price  \n",
       "0              0             0             2     4.4   6999  \n",
       "1              0             0             2     4.4   6999  \n",
       "2              1             0             3     4.3   7999  \n",
       "3              0             1             8     4.4   9499  \n",
       "4              0             2             0     4.5  17999  "
      ]
     },
     "execution_count": 94,
     "metadata": {},
     "output_type": "execute_result"
    }
   ],
   "source": [
    "data.head(5)"
   ]
  },
  {
   "cell_type": "code",
   "execution_count": 95,
   "metadata": {},
   "outputs": [
    {
     "data": {
      "text/plain": [
       "array(['6.5 inch', '6.53 inch', '6.4 inch', nan, '6.67 inch', '6.52 inch',\n",
       "       '6.51 inch', '6.1 inch', '6.78 inch', '6.82 inch'], dtype=object)"
      ]
     },
     "execution_count": 95,
     "metadata": {},
     "output_type": "execute_result"
    }
   ],
   "source": [
    "data['Mobile_Display(in inch)'].unique()"
   ]
  },
  {
   "cell_type": "code",
   "execution_count": 96,
   "metadata": {},
   "outputs": [],
   "source": [
    "# mobile display in inch is ordinal variable we will convert it into 0 to 9 in ascending order\n",
    "def mobile_display_2_encoding(x):\n",
    "    if x == '6.1 inch':\n",
    "        return 0\n",
    "    elif x == '6.4 inch':\n",
    "        return 1\n",
    "    elif x == '6.5 inch':\n",
    "        return 2\n",
    "    elif x == '6.51 inch':\n",
    "        return 3\n",
    "    elif x == '6.52 inch':\n",
    "        return 4\n",
    "    elif x == '6.53 inch':\n",
    "        return 5\n",
    "    elif x == '6.67 inch':\n",
    "        return 6\n",
    "    elif x == '6.78 inch':\n",
    "        return 7\n",
    "    elif x == '6.82 inch':\n",
    "        return 8\n",
    "    else:\n",
    "        return 9"
   ]
  },
  {
   "cell_type": "code",
   "execution_count": 97,
   "metadata": {},
   "outputs": [],
   "source": [
    "data['Mobile_Display(in inch)']=data['Mobile_Display(in inch)'].apply(mobile_display_2_encoding)"
   ]
  },
  {
   "cell_type": "code",
   "execution_count": 98,
   "metadata": {},
   "outputs": [
    {
     "data": {
      "text/html": [
       "<div>\n",
       "<style scoped>\n",
       "    .dataframe tbody tr th:only-of-type {\n",
       "        vertical-align: middle;\n",
       "    }\n",
       "\n",
       "    .dataframe tbody tr th {\n",
       "        vertical-align: top;\n",
       "    }\n",
       "\n",
       "    .dataframe thead th {\n",
       "        text-align: right;\n",
       "    }\n",
       "</style>\n",
       "<table border=\"1\" class=\"dataframe\">\n",
       "  <thead>\n",
       "    <tr style=\"text-align: right;\">\n",
       "      <th></th>\n",
       "      <th>Mobile Brand</th>\n",
       "      <th>Mobile Color</th>\n",
       "      <th>Mobile_Display(in cm)</th>\n",
       "      <th>Mobile_Display(in inch)</th>\n",
       "      <th>RAM</th>\n",
       "      <th>Storage</th>\n",
       "      <th>Expandable Memory</th>\n",
       "      <th>Battery</th>\n",
       "      <th>Battery_Types</th>\n",
       "      <th>Front_Camera</th>\n",
       "      <th>Camera_Types</th>\n",
       "      <th>Rating</th>\n",
       "      <th>Price</th>\n",
       "    </tr>\n",
       "  </thead>\n",
       "  <tbody>\n",
       "    <tr>\n",
       "      <th>0</th>\n",
       "      <td>realme C11</td>\n",
       "      <td>Rich Grey</td>\n",
       "      <td>2</td>\n",
       "      <td>2</td>\n",
       "      <td>0</td>\n",
       "      <td>0</td>\n",
       "      <td>0</td>\n",
       "      <td>1</td>\n",
       "      <td>0</td>\n",
       "      <td>0</td>\n",
       "      <td>2</td>\n",
       "      <td>4.4</td>\n",
       "      <td>6999</td>\n",
       "    </tr>\n",
       "    <tr>\n",
       "      <th>1</th>\n",
       "      <td>realme C11</td>\n",
       "      <td>Rich Green</td>\n",
       "      <td>2</td>\n",
       "      <td>2</td>\n",
       "      <td>0</td>\n",
       "      <td>0</td>\n",
       "      <td>0</td>\n",
       "      <td>1</td>\n",
       "      <td>0</td>\n",
       "      <td>0</td>\n",
       "      <td>2</td>\n",
       "      <td>4.4</td>\n",
       "      <td>6999</td>\n",
       "    </tr>\n",
       "  </tbody>\n",
       "</table>\n",
       "</div>"
      ],
      "text/plain": [
       "  Mobile Brand Mobile Color  Mobile_Display(in cm)  Mobile_Display(in inch)  \\\n",
       "0  realme C11     Rich Grey                      2                        2   \n",
       "1  realme C11    Rich Green                      2                        2   \n",
       "\n",
       "   RAM  Storage  Expandable Memory  Battery  Battery_Types  Front_Camera  \\\n",
       "0    0        0                  0        1              0             0   \n",
       "1    0        0                  0        1              0             0   \n",
       "\n",
       "   Camera_Types  Rating  Price  \n",
       "0             2     4.4   6999  \n",
       "1             2     4.4   6999  "
      ]
     },
     "execution_count": 98,
     "metadata": {},
     "output_type": "execute_result"
    }
   ],
   "source": [
    "data.head(2)"
   ]
  },
  {
   "cell_type": "code",
   "execution_count": 99,
   "metadata": {},
   "outputs": [
    {
     "data": {
      "text/plain": [
       "array([2, 5, 1, 9, 6, 4, 3, 0, 7, 8], dtype=int64)"
      ]
     },
     "execution_count": 99,
     "metadata": {},
     "output_type": "execute_result"
    }
   ],
   "source": [
    "data['Mobile_Display(in inch)'].unique()"
   ]
  },
  {
   "cell_type": "markdown",
   "metadata": {},
   "source": [
    "# Saving Cleaned Data\n",
    "\n",
    "we have successfully cleaned data. save data into csv file.\n",
    "In next stage we will do exploratory data analysis of cleaned data."
   ]
  },
  {
   "cell_type": "code",
   "execution_count": 100,
   "metadata": {},
   "outputs": [],
   "source": [
    "data.to_csv(\"Flipkart Mobile Data Cleaned and Preprocessed.csv\")"
   ]
  },
  {
   "cell_type": "code",
   "execution_count": 101,
   "metadata": {},
   "outputs": [
    {
     "data": {
      "text/html": [
       "<div>\n",
       "<style scoped>\n",
       "    .dataframe tbody tr th:only-of-type {\n",
       "        vertical-align: middle;\n",
       "    }\n",
       "\n",
       "    .dataframe tbody tr th {\n",
       "        vertical-align: top;\n",
       "    }\n",
       "\n",
       "    .dataframe thead th {\n",
       "        text-align: right;\n",
       "    }\n",
       "</style>\n",
       "<table border=\"1\" class=\"dataframe\">\n",
       "  <thead>\n",
       "    <tr style=\"text-align: right;\">\n",
       "      <th></th>\n",
       "      <th>Mobile Brand</th>\n",
       "      <th>Mobile Color</th>\n",
       "      <th>Mobile_Display(in cm)</th>\n",
       "      <th>Mobile_Display(in inch)</th>\n",
       "      <th>RAM</th>\n",
       "      <th>Storage</th>\n",
       "      <th>Expandable Memory</th>\n",
       "      <th>Battery</th>\n",
       "      <th>Battery_Types</th>\n",
       "      <th>Front_Camera</th>\n",
       "      <th>Camera_Types</th>\n",
       "      <th>Rating</th>\n",
       "      <th>Price</th>\n",
       "    </tr>\n",
       "  </thead>\n",
       "  <tbody>\n",
       "    <tr>\n",
       "      <th>0</th>\n",
       "      <td>realme C11</td>\n",
       "      <td>Rich Grey</td>\n",
       "      <td>2</td>\n",
       "      <td>2</td>\n",
       "      <td>0</td>\n",
       "      <td>0</td>\n",
       "      <td>0</td>\n",
       "      <td>1</td>\n",
       "      <td>0</td>\n",
       "      <td>0</td>\n",
       "      <td>2</td>\n",
       "      <td>4.4</td>\n",
       "      <td>6999</td>\n",
       "    </tr>\n",
       "    <tr>\n",
       "      <th>1</th>\n",
       "      <td>realme C11</td>\n",
       "      <td>Rich Green</td>\n",
       "      <td>2</td>\n",
       "      <td>2</td>\n",
       "      <td>0</td>\n",
       "      <td>0</td>\n",
       "      <td>0</td>\n",
       "      <td>1</td>\n",
       "      <td>0</td>\n",
       "      <td>0</td>\n",
       "      <td>2</td>\n",
       "      <td>4.4</td>\n",
       "      <td>6999</td>\n",
       "    </tr>\n",
       "    <tr>\n",
       "      <th>2</th>\n",
       "      <td>POCO C3</td>\n",
       "      <td>Arctic Blue</td>\n",
       "      <td>5</td>\n",
       "      <td>5</td>\n",
       "      <td>2</td>\n",
       "      <td>1</td>\n",
       "      <td>0</td>\n",
       "      <td>1</td>\n",
       "      <td>1</td>\n",
       "      <td>0</td>\n",
       "      <td>3</td>\n",
       "      <td>4.3</td>\n",
       "      <td>7999</td>\n",
       "    </tr>\n",
       "    <tr>\n",
       "      <th>3</th>\n",
       "      <td>Redmi 9 Prime</td>\n",
       "      <td>Space Blue</td>\n",
       "      <td>5</td>\n",
       "      <td>5</td>\n",
       "      <td>2</td>\n",
       "      <td>1</td>\n",
       "      <td>0</td>\n",
       "      <td>2</td>\n",
       "      <td>0</td>\n",
       "      <td>1</td>\n",
       "      <td>8</td>\n",
       "      <td>4.4</td>\n",
       "      <td>9499</td>\n",
       "    </tr>\n",
       "    <tr>\n",
       "      <th>4</th>\n",
       "      <td>realme 8 Pro</td>\n",
       "      <td>Infinite Blue</td>\n",
       "      <td>1</td>\n",
       "      <td>1</td>\n",
       "      <td>3</td>\n",
       "      <td>2</td>\n",
       "      <td>0</td>\n",
       "      <td>0</td>\n",
       "      <td>0</td>\n",
       "      <td>2</td>\n",
       "      <td>0</td>\n",
       "      <td>4.5</td>\n",
       "      <td>17999</td>\n",
       "    </tr>\n",
       "    <tr>\n",
       "      <th>5</th>\n",
       "      <td>realme 8 Pro</td>\n",
       "      <td>Infinite Black</td>\n",
       "      <td>9</td>\n",
       "      <td>9</td>\n",
       "      <td>3</td>\n",
       "      <td>2</td>\n",
       "      <td>0</td>\n",
       "      <td>0</td>\n",
       "      <td>0</td>\n",
       "      <td>2</td>\n",
       "      <td>0</td>\n",
       "      <td>4.5</td>\n",
       "      <td>17999</td>\n",
       "    </tr>\n",
       "    <tr>\n",
       "      <th>6</th>\n",
       "      <td>REDMI 9i</td>\n",
       "      <td>Midnight Black</td>\n",
       "      <td>1</td>\n",
       "      <td>1</td>\n",
       "      <td>2</td>\n",
       "      <td>1</td>\n",
       "      <td>0</td>\n",
       "      <td>1</td>\n",
       "      <td>2</td>\n",
       "      <td>0</td>\n",
       "      <td>8</td>\n",
       "      <td>4.3</td>\n",
       "      <td>7999</td>\n",
       "    </tr>\n",
       "    <tr>\n",
       "      <th>7</th>\n",
       "      <td>POCO C3</td>\n",
       "      <td>Matte Black</td>\n",
       "      <td>9</td>\n",
       "      <td>9</td>\n",
       "      <td>2</td>\n",
       "      <td>1</td>\n",
       "      <td>0</td>\n",
       "      <td>1</td>\n",
       "      <td>1</td>\n",
       "      <td>0</td>\n",
       "      <td>3</td>\n",
       "      <td>4.3</td>\n",
       "      <td>7999</td>\n",
       "    </tr>\n",
       "    <tr>\n",
       "      <th>8</th>\n",
       "      <td>POCO M3</td>\n",
       "      <td>Cool Blue</td>\n",
       "      <td>5</td>\n",
       "      <td>5</td>\n",
       "      <td>3</td>\n",
       "      <td>1</td>\n",
       "      <td>0</td>\n",
       "      <td>4</td>\n",
       "      <td>1</td>\n",
       "      <td>1</td>\n",
       "      <td>10</td>\n",
       "      <td>4.3</td>\n",
       "      <td>10999</td>\n",
       "    </tr>\n",
       "    <tr>\n",
       "      <th>9</th>\n",
       "      <td>POCO X3</td>\n",
       "      <td>Cobalt Blue</td>\n",
       "      <td>5</td>\n",
       "      <td>5</td>\n",
       "      <td>3</td>\n",
       "      <td>2</td>\n",
       "      <td>0</td>\n",
       "      <td>4</td>\n",
       "      <td>1</td>\n",
       "      <td>3</td>\n",
       "      <td>13</td>\n",
       "      <td>4.4</td>\n",
       "      <td>15499</td>\n",
       "    </tr>\n",
       "  </tbody>\n",
       "</table>\n",
       "</div>"
      ],
      "text/plain": [
       "     Mobile Brand    Mobile Color  Mobile_Display(in cm)  \\\n",
       "0     realme C11        Rich Grey                      2   \n",
       "1     realme C11       Rich Green                      2   \n",
       "2        POCO C3      Arctic Blue                      5   \n",
       "3  Redmi 9 Prime       Space Blue                      5   \n",
       "4   realme 8 Pro    Infinite Blue                      1   \n",
       "5   realme 8 Pro   Infinite Black                      9   \n",
       "6       REDMI 9i   Midnight Black                      1   \n",
       "7        POCO C3      Matte Black                      9   \n",
       "8        POCO M3        Cool Blue                      5   \n",
       "9        POCO X3      Cobalt Blue                      5   \n",
       "\n",
       "   Mobile_Display(in inch)  RAM  Storage  Expandable Memory  Battery  \\\n",
       "0                        2    0        0                  0        1   \n",
       "1                        2    0        0                  0        1   \n",
       "2                        5    2        1                  0        1   \n",
       "3                        5    2        1                  0        2   \n",
       "4                        1    3        2                  0        0   \n",
       "5                        9    3        2                  0        0   \n",
       "6                        1    2        1                  0        1   \n",
       "7                        9    2        1                  0        1   \n",
       "8                        5    3        1                  0        4   \n",
       "9                        5    3        2                  0        4   \n",
       "\n",
       "   Battery_Types  Front_Camera  Camera_Types  Rating  Price  \n",
       "0              0             0             2     4.4   6999  \n",
       "1              0             0             2     4.4   6999  \n",
       "2              1             0             3     4.3   7999  \n",
       "3              0             1             8     4.4   9499  \n",
       "4              0             2             0     4.5  17999  \n",
       "5              0             2             0     4.5  17999  \n",
       "6              2             0             8     4.3   7999  \n",
       "7              1             0             3     4.3   7999  \n",
       "8              1             1            10     4.3  10999  \n",
       "9              1             3            13     4.4  15499  "
      ]
     },
     "execution_count": 101,
     "metadata": {},
     "output_type": "execute_result"
    }
   ],
   "source": [
    "data.head(10)"
   ]
  }
 ],
 "metadata": {
  "kernelspec": {
   "display_name": "Python 3",
   "language": "python",
   "name": "python3"
  },
  "language_info": {
   "codemirror_mode": {
    "name": "ipython",
    "version": 3
   },
   "file_extension": ".py",
   "mimetype": "text/x-python",
   "name": "python",
   "nbconvert_exporter": "python",
   "pygments_lexer": "ipython3",
   "version": "3.8.3"
  }
 },
 "nbformat": 4,
 "nbformat_minor": 4
}
